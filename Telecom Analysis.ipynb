{
 "cells": [
  {
   "cell_type": "markdown",
   "metadata": {
    "id": "1frXxQHClOq4"
   },
   "source": [
    "# Telecommunication Company Churn Rate\n",
    "## by Jesse Njenga\n",
    "\n",
    "## Introduction\n",
    "This project will analyze the churn rate dataset of a telecommunication company based in Califonia,USA for Q2 2022. The dataset was downloaded from Kaggle.The Customer Churn table contains information on all 7,043 customers from the Telecommunications company. Each record represents one customer, and contains the below details:-\n",
    "\n",
    "**CustomerID** - A unique ID that identifies each customer.\n",
    "\n",
    "**Gender**\t- The customer’s gender: Male, Female.\n",
    "\n",
    "**Age**\t- The customer’s current age, in years, at the time the fiscal quarter ended (Q2 2022).\n",
    "\n",
    "**Married**\t- Indicates if the customer is married: Yes, No\n",
    "\n",
    "**Number of Dependents** - Indicates the number of dependents that live with the customer (dependents could be children, parents, grandparents, etc.)\n",
    "\n",
    "**City** - The city of the customer’s primary residence in California\n",
    "\n",
    "**Zip Code** - The zip code of the customer’s primary residence\n",
    "\n",
    "**Latitude** - The latitude of the customer’s primary residence\n",
    "\n",
    "**Longitude** - The longitude of the customer’s primary residence\n",
    "\n",
    "**Number of Referrals**\t- Indicates the number of times the customer has referred a friend or family member to this company to date\n",
    "\n",
    "**Tenure in Months** - Indicates the total amount of months that the customer has been with the company by the end of the quarter specified above\n",
    "\n",
    "**Offer**  - Identifies the last marketing offer that the customer accepted: None, Offer A, Offer B, Offer C, Offer D, Offer E\n",
    "\n",
    "**Phone Service** -\tIndicates if the customer subscribes to home phone service with the company: Yes, No\n",
    "\n",
    "**Avg Monthly Long Distance Charges** -\tIndicates the customer’s average long distance charges, calculated to the end of the quarter specified above (if the customer is not subscribed to home phone service, this will be 0)\n",
    "\n",
    "**Multiple Lines** - Indicates if the customer subscribes to multiple telephone lines with the company: Yes, No (if the customer is not subscribed to home phone service, this will be No)\n",
    "\n",
    "**Internet Service** - Indicates if the customer subscribes to Internet service with the company: Yes, No\n",
    "\n",
    "**Internet Type** -\tIndicates the customer's type of internet connection: DSL, Fiber Optic, Cable (if the customer is not subscribed to internet service, this will be None)\n",
    "\n",
    "**Avg Monthly GB Download** - Indicates the customer’s average download volume in gigabytes, calculated to the end of the quarter specified above (if the customer is not subscribed to internet service, this will be 0)\n",
    "\n",
    "**Online Security** - Indicates if the customer subscribes to an additional online security service provided by the company: Yes, No (if the customer is not subscribed to internet service, this will be No)\n",
    "\n",
    "**Online Backup** -\tIndicates if the customer subscribes to an additional online backup service provided by the company: Yes, No (if the customer is not subscribed to internet service, this will be No)\n",
    "\n",
    "**Device Protection Plan** - Indicates if the customer subscribes to an additional device protection plan for their Internet equipment provided by the company: Yes, No (if the customer is not subscribed to internet service, this will be No)\n",
    "\n",
    "**Premium Tech Support** - Indicates if the customer subscribes to an additional technical support plan from the company with reduced wait times: Yes, No (if the customer is not subscribed to internet service, this will be No)\n",
    "\n",
    "**Streaming TV** - Indicates if the customer uses their Internet service to stream television programing from a third party provider at no additional fee: Yes, No (if the customer is not subscribed to internet service, this will be No)\n",
    "\n",
    "**Streaming Movies** - Indicates if the customer uses their Internet service to stream movies from a third party provider at no additional fee: Yes, No (if the customer is not subscribed to internet service, this will be No)\n",
    "\n",
    "**Streaming Music** - Indicates if the customer uses their Internet service to stream music from a third party provider at no additional fee: Yes, No (if the customer is not subscribed to internet service, this will be No)\n",
    "\n",
    "**Unlimited Data** - Indicates if the customer has paid an additional monthly fee to have unlimited data downloads/uploads: Yes, No (if the customer is not subscribed to internet service, this will be No)\n",
    "\n",
    "**Contract** - Indicates the customer’s current contract type: Month-to-Month, One Year, Two Year\n",
    "\n",
    "**Paperless** - Billing\tIndicates if the customer has chosen paperless billing: Yes, No\n",
    "\n",
    "**Payment Method** - Indicates how the customer pays their bill: Bank Withdrawal, Credit Card, Mailed Check\n",
    "\n",
    "**Monthly Charge** -Indicates the customer’s current total monthly charge for all their services from the company\n",
    "\n",
    "**Total Charges** Indicates the customer’s total charges, calculated to the end of the quarter specified above\n",
    "\n",
    "**Total Refunds**\tIndicates the customer’s total refunds, calculated to the end of the quarter specified above\n",
    "\n",
    "**Total Extra Data Charges** Indicates the customer’s total charges for extra data downloads above those specified in their plan, by the end of the quarter specified above\n",
    "\n",
    "**Total Long Distance Charges**\tIndicates the customer’s total charges for long distance above those specified in their plan, by the end of the quarter specified above\n",
    "\n",
    "**Total Revenue**\tIndicates the company's total revenue from this customer, calculated to the end of the quarter specified above (Total Charges - Total Refurnds + Total Extra Data Charges + Total Lond Distance Charges)\n",
    "\n",
    "**Customer Status**\tIndicates the status of the customer at the end of the quarter: Churned, Stayed, or Joined\n",
    "\n",
    "**Churn Category**\tA high-level category for the customer’s reason for churning, which is asked when they leave the company: Attitude, Competitor, Dissatisfaction, Other, Price (directly related to Churn Reason)\n",
    "\n",
    "**Churn Reason**\tA customer’s specific reason for leaving the company, which is asked when they leave the company (directly related to Churn Category)\n",
    "\n",
    "**Zip Code**\tThe zip code of the customer’s primary residence\n",
    "\n",
    "**Population**\tA current population estimate for the entire Zip Code area\n",
    "\n",
    "\n",
    "## Preliminary Wrangling\n"
   ]
  },
  {
   "cell_type": "code",
   "execution_count": 1,
   "metadata": {
    "executionInfo": {
     "elapsed": 347,
     "status": "ok",
     "timestamp": 1659428222873,
     "user": {
      "displayName": "jesse njenga",
      "userId": "15053879897073923228"
     },
     "user_tz": -180
    },
    "id": "H3QZHqWllOr2"
   },
   "outputs": [],
   "source": [
    "# import all packages and set plots to be embedded inline\n",
    "import numpy as np\n",
    "import pandas as pd\n",
    "import matplotlib.pyplot as plt\n",
    "import seaborn as sb\n",
    "\n",
    "%matplotlib inline"
   ]
  },
  {
   "cell_type": "code",
   "execution_count": 2,
   "metadata": {
    "executionInfo": {
     "elapsed": 19,
     "status": "ok",
     "timestamp": 1659428224200,
     "user": {
      "displayName": "jesse njenga",
      "userId": "15053879897073923228"
     },
     "user_tz": -180
    },
    "id": "Pa-JxQpOlOsG"
   },
   "outputs": [],
   "source": [
    "# load in the dataset into a pandas dataframe\n",
    "data = pd.read_csv('telecom_customers_churn.csv')"
   ]
  },
  {
   "cell_type": "markdown",
   "metadata": {
    "id": "rjXqllNvlOsM"
   },
   "source": [
    "## Assessing Data"
   ]
  },
  {
   "cell_type": "code",
   "execution_count": 3,
   "metadata": {
    "colab": {
     "base_uri": "https://localhost:8080/",
     "height": 456
    },
    "executionInfo": {
     "elapsed": 653,
     "status": "ok",
     "timestamp": 1659428228640,
     "user": {
      "displayName": "jesse njenga",
      "userId": "15053879897073923228"
     },
     "user_tz": -180
    },
    "id": "QV1p82X8lOsQ",
    "outputId": "57ad2b04-d86e-4152-b562-62e3defda48d"
   },
   "outputs": [
    {
     "data": {
      "text/html": [
       "<div>\n",
       "<style scoped>\n",
       "    .dataframe tbody tr th:only-of-type {\n",
       "        vertical-align: middle;\n",
       "    }\n",
       "\n",
       "    .dataframe tbody tr th {\n",
       "        vertical-align: top;\n",
       "    }\n",
       "\n",
       "    .dataframe thead th {\n",
       "        text-align: right;\n",
       "    }\n",
       "</style>\n",
       "<table border=\"1\" class=\"dataframe\">\n",
       "  <thead>\n",
       "    <tr style=\"text-align: right;\">\n",
       "      <th></th>\n",
       "      <th>Customer ID</th>\n",
       "      <th>Gender</th>\n",
       "      <th>Age</th>\n",
       "      <th>Married</th>\n",
       "      <th>Number of Dependents</th>\n",
       "      <th>City</th>\n",
       "      <th>Zip Code</th>\n",
       "      <th>Latitude</th>\n",
       "      <th>Longitude</th>\n",
       "      <th>Number of Referrals</th>\n",
       "      <th>...</th>\n",
       "      <th>Payment Method</th>\n",
       "      <th>Monthly Charge</th>\n",
       "      <th>Total Charges</th>\n",
       "      <th>Total Refunds</th>\n",
       "      <th>Total Extra Data Charges</th>\n",
       "      <th>Total Long Distance Charges</th>\n",
       "      <th>Total Revenue</th>\n",
       "      <th>Customer Status</th>\n",
       "      <th>Churn Category</th>\n",
       "      <th>Churn Reason</th>\n",
       "    </tr>\n",
       "  </thead>\n",
       "  <tbody>\n",
       "    <tr>\n",
       "      <th>0</th>\n",
       "      <td>0002-ORFBO</td>\n",
       "      <td>Female</td>\n",
       "      <td>37</td>\n",
       "      <td>Yes</td>\n",
       "      <td>0</td>\n",
       "      <td>Frazier Park</td>\n",
       "      <td>93225</td>\n",
       "      <td>34.827662</td>\n",
       "      <td>-118.999073</td>\n",
       "      <td>2</td>\n",
       "      <td>...</td>\n",
       "      <td>Credit Card</td>\n",
       "      <td>65.6</td>\n",
       "      <td>593.30</td>\n",
       "      <td>0.00</td>\n",
       "      <td>0</td>\n",
       "      <td>381.51</td>\n",
       "      <td>974.81</td>\n",
       "      <td>Stayed</td>\n",
       "      <td>NaN</td>\n",
       "      <td>NaN</td>\n",
       "    </tr>\n",
       "    <tr>\n",
       "      <th>1</th>\n",
       "      <td>0003-MKNFE</td>\n",
       "      <td>Male</td>\n",
       "      <td>46</td>\n",
       "      <td>No</td>\n",
       "      <td>0</td>\n",
       "      <td>Glendale</td>\n",
       "      <td>91206</td>\n",
       "      <td>34.162515</td>\n",
       "      <td>-118.203869</td>\n",
       "      <td>0</td>\n",
       "      <td>...</td>\n",
       "      <td>Credit Card</td>\n",
       "      <td>-4.0</td>\n",
       "      <td>542.40</td>\n",
       "      <td>38.33</td>\n",
       "      <td>10</td>\n",
       "      <td>96.21</td>\n",
       "      <td>610.28</td>\n",
       "      <td>Stayed</td>\n",
       "      <td>NaN</td>\n",
       "      <td>NaN</td>\n",
       "    </tr>\n",
       "    <tr>\n",
       "      <th>2</th>\n",
       "      <td>0004-TLHLJ</td>\n",
       "      <td>Male</td>\n",
       "      <td>50</td>\n",
       "      <td>No</td>\n",
       "      <td>0</td>\n",
       "      <td>Costa Mesa</td>\n",
       "      <td>92627</td>\n",
       "      <td>33.645672</td>\n",
       "      <td>-117.922613</td>\n",
       "      <td>0</td>\n",
       "      <td>...</td>\n",
       "      <td>Bank Withdrawal</td>\n",
       "      <td>73.9</td>\n",
       "      <td>280.85</td>\n",
       "      <td>0.00</td>\n",
       "      <td>0</td>\n",
       "      <td>134.60</td>\n",
       "      <td>415.45</td>\n",
       "      <td>Churned</td>\n",
       "      <td>Competitor</td>\n",
       "      <td>Competitor had better devices</td>\n",
       "    </tr>\n",
       "    <tr>\n",
       "      <th>3</th>\n",
       "      <td>0011-IGKFF</td>\n",
       "      <td>Male</td>\n",
       "      <td>78</td>\n",
       "      <td>Yes</td>\n",
       "      <td>0</td>\n",
       "      <td>Martinez</td>\n",
       "      <td>94553</td>\n",
       "      <td>38.014457</td>\n",
       "      <td>-122.115432</td>\n",
       "      <td>1</td>\n",
       "      <td>...</td>\n",
       "      <td>Bank Withdrawal</td>\n",
       "      <td>98.0</td>\n",
       "      <td>1237.85</td>\n",
       "      <td>0.00</td>\n",
       "      <td>0</td>\n",
       "      <td>361.66</td>\n",
       "      <td>1599.51</td>\n",
       "      <td>Churned</td>\n",
       "      <td>Dissatisfaction</td>\n",
       "      <td>Product dissatisfaction</td>\n",
       "    </tr>\n",
       "    <tr>\n",
       "      <th>4</th>\n",
       "      <td>0013-EXCHZ</td>\n",
       "      <td>Female</td>\n",
       "      <td>75</td>\n",
       "      <td>Yes</td>\n",
       "      <td>0</td>\n",
       "      <td>Camarillo</td>\n",
       "      <td>93010</td>\n",
       "      <td>34.227846</td>\n",
       "      <td>-119.079903</td>\n",
       "      <td>3</td>\n",
       "      <td>...</td>\n",
       "      <td>Credit Card</td>\n",
       "      <td>83.9</td>\n",
       "      <td>267.40</td>\n",
       "      <td>0.00</td>\n",
       "      <td>0</td>\n",
       "      <td>22.14</td>\n",
       "      <td>289.54</td>\n",
       "      <td>Churned</td>\n",
       "      <td>Dissatisfaction</td>\n",
       "      <td>Network reliability</td>\n",
       "    </tr>\n",
       "  </tbody>\n",
       "</table>\n",
       "<p>5 rows × 38 columns</p>\n",
       "</div>"
      ],
      "text/plain": [
       "  Customer ID  Gender  Age Married  Number of Dependents          City  \\\n",
       "0  0002-ORFBO  Female   37     Yes                     0  Frazier Park   \n",
       "1  0003-MKNFE    Male   46      No                     0      Glendale   \n",
       "2  0004-TLHLJ    Male   50      No                     0    Costa Mesa   \n",
       "3  0011-IGKFF    Male   78     Yes                     0      Martinez   \n",
       "4  0013-EXCHZ  Female   75     Yes                     0     Camarillo   \n",
       "\n",
       "   Zip Code   Latitude   Longitude  Number of Referrals  ...   Payment Method  \\\n",
       "0     93225  34.827662 -118.999073                    2  ...      Credit Card   \n",
       "1     91206  34.162515 -118.203869                    0  ...      Credit Card   \n",
       "2     92627  33.645672 -117.922613                    0  ...  Bank Withdrawal   \n",
       "3     94553  38.014457 -122.115432                    1  ...  Bank Withdrawal   \n",
       "4     93010  34.227846 -119.079903                    3  ...      Credit Card   \n",
       "\n",
       "  Monthly Charge Total Charges  Total Refunds Total Extra Data Charges  \\\n",
       "0           65.6        593.30           0.00                        0   \n",
       "1           -4.0        542.40          38.33                       10   \n",
       "2           73.9        280.85           0.00                        0   \n",
       "3           98.0       1237.85           0.00                        0   \n",
       "4           83.9        267.40           0.00                        0   \n",
       "\n",
       "  Total Long Distance Charges Total Revenue  Customer Status   Churn Category  \\\n",
       "0                      381.51        974.81           Stayed              NaN   \n",
       "1                       96.21        610.28           Stayed              NaN   \n",
       "2                      134.60        415.45          Churned       Competitor   \n",
       "3                      361.66       1599.51          Churned  Dissatisfaction   \n",
       "4                       22.14        289.54          Churned  Dissatisfaction   \n",
       "\n",
       "                    Churn Reason  \n",
       "0                            NaN  \n",
       "1                            NaN  \n",
       "2  Competitor had better devices  \n",
       "3        Product dissatisfaction  \n",
       "4            Network reliability  \n",
       "\n",
       "[5 rows x 38 columns]"
      ]
     },
     "execution_count": 3,
     "metadata": {},
     "output_type": "execute_result"
    }
   ],
   "source": [
    "data.head(5)"
   ]
  },
  {
   "cell_type": "code",
   "execution_count": 4,
   "metadata": {
    "colab": {
     "base_uri": "https://localhost:8080/"
    },
    "executionInfo": {
     "elapsed": 356,
     "status": "ok",
     "timestamp": 1659427753853,
     "user": {
      "displayName": "jesse njenga",
      "userId": "15053879897073923228"
     },
     "user_tz": -180
    },
    "id": "nXxolnyhlOse",
    "outputId": "a7fa1d7b-6d77-426e-ebce-bb6fcbf26c23"
   },
   "outputs": [
    {
     "data": {
      "text/plain": [
       "(7043, 38)"
      ]
     },
     "execution_count": 4,
     "metadata": {},
     "output_type": "execute_result"
    }
   ],
   "source": [
    "# rows & columns\n",
    "data.shape"
   ]
  },
  {
   "cell_type": "code",
   "execution_count": 5,
   "metadata": {
    "executionInfo": {
     "elapsed": 825,
     "status": "ok",
     "timestamp": 1659428232673,
     "user": {
      "displayName": "jesse njenga",
      "userId": "15053879897073923228"
     },
     "user_tz": -180
    },
    "id": "fqw1fXAplOsp"
   },
   "outputs": [],
   "source": [
    "#replace the column names spaces\n",
    "df_col = data.columns.str.replace(' ','_')\n",
    "\n",
    "#reassign\n",
    "data.columns = df_col"
   ]
  },
  {
   "cell_type": "code",
   "execution_count": 6,
   "metadata": {
    "executionInfo": {
     "elapsed": 4,
     "status": "ok",
     "timestamp": 1659428233067,
     "user": {
      "displayName": "jesse njenga",
      "userId": "15053879897073923228"
     },
     "user_tz": -180
    },
    "id": "bqnMmpEblOs3"
   },
   "outputs": [],
   "source": [
    "#convert column names to lowercase\n",
    "df_cols = data.columns.str.lower()\n",
    "\n",
    "#reassign\n",
    "data.columns = df_cols"
   ]
  },
  {
   "cell_type": "code",
   "execution_count": 7,
   "metadata": {
    "executionInfo": {
     "elapsed": 3,
     "status": "ok",
     "timestamp": 1659428233960,
     "user": {
      "displayName": "jesse njenga",
      "userId": "15053879897073923228"
     },
     "user_tz": -180
    },
    "id": "q8pX0vRzlOs_"
   },
   "outputs": [],
   "source": [
    "#remove unwanted columns in the study\n",
    "data.drop(['zip_code','latitude','longitude','paperless_billing','payment_method','contract'], axis=1, inplace=True)"
   ]
  },
  {
   "cell_type": "code",
   "execution_count": 8,
   "metadata": {
    "executionInfo": {
     "elapsed": 4,
     "status": "ok",
     "timestamp": 1659428235085,
     "user": {
      "displayName": "jesse njenga",
      "userId": "15053879897073923228"
     },
     "user_tz": -180
    },
    "id": "B8E2VgjTlOtI"
   },
   "outputs": [],
   "source": [
    "#convert the columns from a plain object type into an ordered categorical type\n",
    "\n",
    "internet_types = ['Cable', 'DSL', 'Fiber Optic']\n",
    "offer_types = ['Offer A', 'Offer B', 'Offer C','Offer D','Offer E','None']\n",
    "\n",
    "# Returns the types for internet type, customer status,churn category with the categories and orderedness\n",
    "internet = pd.api.types.CategoricalDtype(ordered=True, categories=internet_types)\n",
    "offers = pd.api.types.CategoricalDtype(ordered=True, categories=offer_types)\n",
    "\n",
    "# Use pandas.astype() to convert the columns from a plain object type into an ordered categorical type \n",
    "data['internet_type'] = data['internet_type'].astype(internet);\n",
    "data['offer'] = data['offer'].astype(offers);\n"
   ]
  },
  {
   "cell_type": "code",
   "execution_count": 41,
   "metadata": {},
   "outputs": [],
   "source": [
    "#remove unwanted rows, Joined & other\n",
    "telecom = data.loc[(data.customer_status != 'Joined')& (data.churn_category != 'Other')]"
   ]
  },
  {
   "cell_type": "code",
   "execution_count": 42,
   "metadata": {},
   "outputs": [
    {
     "data": {
      "text/html": [
       "<div>\n",
       "<style scoped>\n",
       "    .dataframe tbody tr th:only-of-type {\n",
       "        vertical-align: middle;\n",
       "    }\n",
       "\n",
       "    .dataframe tbody tr th {\n",
       "        vertical-align: top;\n",
       "    }\n",
       "\n",
       "    .dataframe thead th {\n",
       "        text-align: right;\n",
       "    }\n",
       "</style>\n",
       "<table border=\"1\" class=\"dataframe\">\n",
       "  <thead>\n",
       "    <tr style=\"text-align: right;\">\n",
       "      <th></th>\n",
       "      <th>customer_status</th>\n",
       "      <th>Total</th>\n",
       "    </tr>\n",
       "  </thead>\n",
       "  <tbody>\n",
       "    <tr>\n",
       "      <th>0</th>\n",
       "      <td>Stayed</td>\n",
       "      <td>4720</td>\n",
       "    </tr>\n",
       "    <tr>\n",
       "      <th>1</th>\n",
       "      <td>Churned</td>\n",
       "      <td>1687</td>\n",
       "    </tr>\n",
       "  </tbody>\n",
       "</table>\n",
       "</div>"
      ],
      "text/plain": [
       "  customer_status  Total\n",
       "0          Stayed   4720\n",
       "1         Churned   1687"
      ]
     },
     "execution_count": 42,
     "metadata": {},
     "output_type": "execute_result"
    }
   ],
   "source": [
    "#test if removed\n",
    "telecom.groupby(['customer_status']).customer_status.count().sort_values(ascending=False).reset_index(name='Total')"
   ]
  },
  {
   "cell_type": "code",
   "execution_count": 43,
   "metadata": {},
   "outputs": [
    {
     "data": {
      "text/html": [
       "<div>\n",
       "<style scoped>\n",
       "    .dataframe tbody tr th:only-of-type {\n",
       "        vertical-align: middle;\n",
       "    }\n",
       "\n",
       "    .dataframe tbody tr th {\n",
       "        vertical-align: top;\n",
       "    }\n",
       "\n",
       "    .dataframe thead th {\n",
       "        text-align: right;\n",
       "    }\n",
       "</style>\n",
       "<table border=\"1\" class=\"dataframe\">\n",
       "  <thead>\n",
       "    <tr style=\"text-align: right;\">\n",
       "      <th></th>\n",
       "      <th>churn_category</th>\n",
       "      <th>Total</th>\n",
       "    </tr>\n",
       "  </thead>\n",
       "  <tbody>\n",
       "    <tr>\n",
       "      <th>0</th>\n",
       "      <td>Competitor</td>\n",
       "      <td>841</td>\n",
       "    </tr>\n",
       "    <tr>\n",
       "      <th>1</th>\n",
       "      <td>Dissatisfaction</td>\n",
       "      <td>321</td>\n",
       "    </tr>\n",
       "    <tr>\n",
       "      <th>2</th>\n",
       "      <td>Attitude</td>\n",
       "      <td>314</td>\n",
       "    </tr>\n",
       "    <tr>\n",
       "      <th>3</th>\n",
       "      <td>Price</td>\n",
       "      <td>211</td>\n",
       "    </tr>\n",
       "  </tbody>\n",
       "</table>\n",
       "</div>"
      ],
      "text/plain": [
       "    churn_category  Total\n",
       "0       Competitor    841\n",
       "1  Dissatisfaction    321\n",
       "2         Attitude    314\n",
       "3            Price    211"
      ]
     },
     "execution_count": 43,
     "metadata": {},
     "output_type": "execute_result"
    }
   ],
   "source": [
    "#test if removed\n",
    "telecom.groupby(['churn_category']).churn_category.count().sort_values(ascending=False).reset_index(name='Total')"
   ]
  },
  {
   "cell_type": "markdown",
   "metadata": {},
   "source": [
    "This project will focus more on the causes of churn for the period ended Q2 2022. I have dropped rows for client who joined in the quarter and also rows for clients whose churn category was Other. Reasons for churning under Other are mainly the customer moved, they were deceased or the company did not know the reason for the churn. These reasons are not in control of the company."
   ]
  },
  {
   "cell_type": "code",
   "execution_count": 13,
   "metadata": {
    "colab": {
     "base_uri": "https://localhost:8080/"
    },
    "executionInfo": {
     "elapsed": 425,
     "status": "ok",
     "timestamp": 1659428238264,
     "user": {
      "displayName": "jesse njenga",
      "userId": "15053879897073923228"
     },
     "user_tz": -180
    },
    "id": "85QnD2cAlOtN",
    "outputId": "521bb8ec-542f-40de-a9c4-c5c26b1259d3"
   },
   "outputs": [
    {
     "name": "stdout",
     "output_type": "stream",
     "text": [
      "<class 'pandas.core.frame.DataFrame'>\n",
      "Int64Index: 6861 entries, 0 to 7042\n",
      "Data columns (total 32 columns):\n",
      " #   Column                             Non-Null Count  Dtype   \n",
      "---  ------                             --------------  -----   \n",
      " 0   customer_id                        6861 non-null   object  \n",
      " 1   gender                             6861 non-null   object  \n",
      " 2   age                                6861 non-null   int64   \n",
      " 3   married                            6861 non-null   object  \n",
      " 4   number_of_dependents               6861 non-null   int64   \n",
      " 5   city                               6861 non-null   object  \n",
      " 6   number_of_referrals                6861 non-null   int64   \n",
      " 7   tenure_in_months                   6861 non-null   int64   \n",
      " 8   offer                              6861 non-null   category\n",
      " 9   phone_service                      6861 non-null   object  \n",
      " 10  avg_monthly_long_distance_charges  6195 non-null   float64 \n",
      " 11  multiple_lines                     6195 non-null   object  \n",
      " 12  internet_service                   6861 non-null   object  \n",
      " 13  internet_type                      5338 non-null   category\n",
      " 14  avg_monthly_gb_download            5338 non-null   float64 \n",
      " 15  online_security                    5338 non-null   object  \n",
      " 16  online_backup                      5338 non-null   object  \n",
      " 17  device_protection_plan             5338 non-null   object  \n",
      " 18  premium_tech_support               5338 non-null   object  \n",
      " 19  streaming_tv                       5338 non-null   object  \n",
      " 20  streaming_movies                   5338 non-null   object  \n",
      " 21  streaming_music                    5338 non-null   object  \n",
      " 22  unlimited_data                     5338 non-null   object  \n",
      " 23  monthly_charge                     6861 non-null   float64 \n",
      " 24  total_charges                      6861 non-null   float64 \n",
      " 25  total_refunds                      6861 non-null   float64 \n",
      " 26  total_extra_data_charges           6861 non-null   int64   \n",
      " 27  total_long_distance_charges        6861 non-null   float64 \n",
      " 28  total_revenue                      6861 non-null   float64 \n",
      " 29  customer_status                    6861 non-null   object  \n",
      " 30  churn_category                     1687 non-null   object  \n",
      " 31  churn_reason                       1687 non-null   object  \n",
      "dtypes: category(2), float64(7), int64(5), object(18)\n",
      "memory usage: 1.6+ MB\n"
     ]
    }
   ],
   "source": [
    "telecom.info()"
   ]
  },
  {
   "cell_type": "code",
   "execution_count": 14,
   "metadata": {
    "colab": {
     "base_uri": "https://localhost:8080/",
     "height": 364
    },
    "executionInfo": {
     "elapsed": 934,
     "status": "ok",
     "timestamp": 1659428245096,
     "user": {
      "displayName": "jesse njenga",
      "userId": "15053879897073923228"
     },
     "user_tz": -180
    },
    "id": "CIrxKNGalOtS",
    "outputId": "bc8f5eb1-3e38-4b46-adbc-fd5e637d397d"
   },
   "outputs": [
    {
     "data": {
      "text/html": [
       "<div>\n",
       "<style scoped>\n",
       "    .dataframe tbody tr th:only-of-type {\n",
       "        vertical-align: middle;\n",
       "    }\n",
       "\n",
       "    .dataframe tbody tr th {\n",
       "        vertical-align: top;\n",
       "    }\n",
       "\n",
       "    .dataframe thead th {\n",
       "        text-align: right;\n",
       "    }\n",
       "</style>\n",
       "<table border=\"1\" class=\"dataframe\">\n",
       "  <thead>\n",
       "    <tr style=\"text-align: right;\">\n",
       "      <th></th>\n",
       "      <th>age</th>\n",
       "      <th>number_of_dependents</th>\n",
       "      <th>number_of_referrals</th>\n",
       "      <th>tenure_in_months</th>\n",
       "      <th>avg_monthly_long_distance_charges</th>\n",
       "      <th>avg_monthly_gb_download</th>\n",
       "      <th>monthly_charge</th>\n",
       "      <th>total_charges</th>\n",
       "      <th>total_refunds</th>\n",
       "      <th>total_extra_data_charges</th>\n",
       "      <th>total_long_distance_charges</th>\n",
       "      <th>total_revenue</th>\n",
       "    </tr>\n",
       "  </thead>\n",
       "  <tbody>\n",
       "    <tr>\n",
       "      <th>count</th>\n",
       "      <td>6861.000000</td>\n",
       "      <td>6861.000000</td>\n",
       "      <td>6861.000000</td>\n",
       "      <td>6861.000000</td>\n",
       "      <td>6195.000000</td>\n",
       "      <td>5338.000000</td>\n",
       "      <td>6861.000000</td>\n",
       "      <td>6861.000000</td>\n",
       "      <td>6861.000000</td>\n",
       "      <td>6861.000000</td>\n",
       "      <td>6861.000000</td>\n",
       "      <td>6861.000000</td>\n",
       "    </tr>\n",
       "    <tr>\n",
       "      <th>mean</th>\n",
       "      <td>46.476607</td>\n",
       "      <td>0.478210</td>\n",
       "      <td>1.989652</td>\n",
       "      <td>32.761697</td>\n",
       "      <td>25.452978</td>\n",
       "      <td>26.322218</td>\n",
       "      <td>63.298674</td>\n",
       "      <td>2300.467700</td>\n",
       "      <td>1.992934</td>\n",
       "      <td>6.859058</td>\n",
       "      <td>757.884737</td>\n",
       "      <td>3063.218561</td>\n",
       "    </tr>\n",
       "    <tr>\n",
       "      <th>std</th>\n",
       "      <td>16.751074</td>\n",
       "      <td>0.970707</td>\n",
       "      <td>3.026613</td>\n",
       "      <td>24.577649</td>\n",
       "      <td>14.187351</td>\n",
       "      <td>19.578918</td>\n",
       "      <td>31.328700</td>\n",
       "      <td>2274.928141</td>\n",
       "      <td>7.965164</td>\n",
       "      <td>25.114933</td>\n",
       "      <td>850.952171</td>\n",
       "      <td>2874.676159</td>\n",
       "    </tr>\n",
       "    <tr>\n",
       "      <th>min</th>\n",
       "      <td>19.000000</td>\n",
       "      <td>0.000000</td>\n",
       "      <td>0.000000</td>\n",
       "      <td>1.000000</td>\n",
       "      <td>1.010000</td>\n",
       "      <td>2.000000</td>\n",
       "      <td>-10.000000</td>\n",
       "      <td>18.800000</td>\n",
       "      <td>0.000000</td>\n",
       "      <td>0.000000</td>\n",
       "      <td>0.000000</td>\n",
       "      <td>21.360000</td>\n",
       "    </tr>\n",
       "    <tr>\n",
       "      <th>25%</th>\n",
       "      <td>32.000000</td>\n",
       "      <td>0.000000</td>\n",
       "      <td>0.000000</td>\n",
       "      <td>9.000000</td>\n",
       "      <td>13.130000</td>\n",
       "      <td>13.000000</td>\n",
       "      <td>29.650000</td>\n",
       "      <td>412.550000</td>\n",
       "      <td>0.000000</td>\n",
       "      <td>0.000000</td>\n",
       "      <td>73.120000</td>\n",
       "      <td>626.550000</td>\n",
       "    </tr>\n",
       "    <tr>\n",
       "      <th>50%</th>\n",
       "      <td>46.000000</td>\n",
       "      <td>0.000000</td>\n",
       "      <td>0.000000</td>\n",
       "      <td>29.000000</td>\n",
       "      <td>25.730000</td>\n",
       "      <td>21.000000</td>\n",
       "      <td>69.850000</td>\n",
       "      <td>1405.300000</td>\n",
       "      <td>0.000000</td>\n",
       "      <td>0.000000</td>\n",
       "      <td>413.280000</td>\n",
       "      <td>2135.590000</td>\n",
       "    </tr>\n",
       "    <tr>\n",
       "      <th>75%</th>\n",
       "      <td>60.000000</td>\n",
       "      <td>0.000000</td>\n",
       "      <td>3.000000</td>\n",
       "      <td>56.000000</td>\n",
       "      <td>37.690000</td>\n",
       "      <td>30.000000</td>\n",
       "      <td>89.650000</td>\n",
       "      <td>3838.750000</td>\n",
       "      <td>0.000000</td>\n",
       "      <td>0.000000</td>\n",
       "      <td>1202.180000</td>\n",
       "      <td>4858.830000</td>\n",
       "    </tr>\n",
       "    <tr>\n",
       "      <th>max</th>\n",
       "      <td>80.000000</td>\n",
       "      <td>9.000000</td>\n",
       "      <td>11.000000</td>\n",
       "      <td>72.000000</td>\n",
       "      <td>49.990000</td>\n",
       "      <td>85.000000</td>\n",
       "      <td>118.750000</td>\n",
       "      <td>8684.800000</td>\n",
       "      <td>49.790000</td>\n",
       "      <td>150.000000</td>\n",
       "      <td>3564.720000</td>\n",
       "      <td>11979.340000</td>\n",
       "    </tr>\n",
       "  </tbody>\n",
       "</table>\n",
       "</div>"
      ],
      "text/plain": [
       "               age  number_of_dependents  number_of_referrals  \\\n",
       "count  6861.000000           6861.000000          6861.000000   \n",
       "mean     46.476607              0.478210             1.989652   \n",
       "std      16.751074              0.970707             3.026613   \n",
       "min      19.000000              0.000000             0.000000   \n",
       "25%      32.000000              0.000000             0.000000   \n",
       "50%      46.000000              0.000000             0.000000   \n",
       "75%      60.000000              0.000000             3.000000   \n",
       "max      80.000000              9.000000            11.000000   \n",
       "\n",
       "       tenure_in_months  avg_monthly_long_distance_charges  \\\n",
       "count       6861.000000                        6195.000000   \n",
       "mean          32.761697                          25.452978   \n",
       "std           24.577649                          14.187351   \n",
       "min            1.000000                           1.010000   \n",
       "25%            9.000000                          13.130000   \n",
       "50%           29.000000                          25.730000   \n",
       "75%           56.000000                          37.690000   \n",
       "max           72.000000                          49.990000   \n",
       "\n",
       "       avg_monthly_gb_download  monthly_charge  total_charges  total_refunds  \\\n",
       "count              5338.000000     6861.000000    6861.000000    6861.000000   \n",
       "mean                 26.322218       63.298674    2300.467700       1.992934   \n",
       "std                  19.578918       31.328700    2274.928141       7.965164   \n",
       "min                   2.000000      -10.000000      18.800000       0.000000   \n",
       "25%                  13.000000       29.650000     412.550000       0.000000   \n",
       "50%                  21.000000       69.850000    1405.300000       0.000000   \n",
       "75%                  30.000000       89.650000    3838.750000       0.000000   \n",
       "max                  85.000000      118.750000    8684.800000      49.790000   \n",
       "\n",
       "       total_extra_data_charges  total_long_distance_charges  total_revenue  \n",
       "count               6861.000000                  6861.000000    6861.000000  \n",
       "mean                   6.859058                   757.884737    3063.218561  \n",
       "std                   25.114933                   850.952171    2874.676159  \n",
       "min                    0.000000                     0.000000      21.360000  \n",
       "25%                    0.000000                    73.120000     626.550000  \n",
       "50%                    0.000000                   413.280000    2135.590000  \n",
       "75%                    0.000000                  1202.180000    4858.830000  \n",
       "max                  150.000000                  3564.720000   11979.340000  "
      ]
     },
     "execution_count": 14,
     "metadata": {},
     "output_type": "execute_result"
    }
   ],
   "source": [
    "# descriptive statistics for numeric variables\n",
    "telecom.describe()"
   ]
  },
  {
   "cell_type": "markdown",
   "metadata": {
    "id": "T5OoU6Q0lOtX"
   },
   "source": [
    "### What is the structure of your dataset?\n",
    "\n",
    "There are 7043 customers in the dataset with 38 features. Majority of the features are categorical with a few numerical.\n",
    "\n",
    "### What is/are the main feature(s) of interest in your dataset?\n",
    "\n",
    "I'm most interested in figuring out which features are best for predicting the churn rate of the customers. \n",
    "\n",
    "### What features in the dataset do you think will help support your investigation into your feature(s) of interest?\n",
    "\n",
    "I expect internet type, total charges, total extra data charges,total long distance charge, offer, number of referals to have the strongest effect on the Internet service customers churn rate.\n",
    "\n",
    "Online Security,Device Protection Plan,Online backup, Premium Tech Support will have a smaller effect on the churn outcome of customers.                       "
   ]
  },
  {
   "cell_type": "markdown",
   "metadata": {
    "id": "kSrrVMcHlOtc"
   },
   "source": [
    "## Univariate Exploration\n",
    "\n",
    "I will start by looking at the customer status and the categories of churn for the Q2 2022.\n"
   ]
  },
  {
   "cell_type": "code",
   "execution_count": 17,
   "metadata": {
    "colab": {
     "base_uri": "https://localhost:8080/",
     "height": 422
    },
    "executionInfo": {
     "elapsed": 668,
     "status": "ok",
     "timestamp": 1659428247750,
     "user": {
      "displayName": "jesse njenga",
      "userId": "15053879897073923228"
     },
     "user_tz": -180
    },
    "id": "0rN-YRPFlOth",
    "outputId": "3de80f9d-4351-493e-f237-6b503e3fc06a"
   },
   "outputs": [
    {
     "data": {
      "text/html": [
       "<div>\n",
       "<style scoped>\n",
       "    .dataframe tbody tr th:only-of-type {\n",
       "        vertical-align: middle;\n",
       "    }\n",
       "\n",
       "    .dataframe tbody tr th {\n",
       "        vertical-align: top;\n",
       "    }\n",
       "\n",
       "    .dataframe thead th {\n",
       "        text-align: right;\n",
       "    }\n",
       "</style>\n",
       "<table border=\"1\" class=\"dataframe\">\n",
       "  <thead>\n",
       "    <tr style=\"text-align: right;\">\n",
       "      <th></th>\n",
       "      <th>customer_status</th>\n",
       "      <th>Total</th>\n",
       "    </tr>\n",
       "  </thead>\n",
       "  <tbody>\n",
       "    <tr>\n",
       "      <th>0</th>\n",
       "      <td>Stayed</td>\n",
       "      <td>4720</td>\n",
       "    </tr>\n",
       "    <tr>\n",
       "      <th>1</th>\n",
       "      <td>Churned</td>\n",
       "      <td>1869</td>\n",
       "    </tr>\n",
       "  </tbody>\n",
       "</table>\n",
       "</div>"
      ],
      "text/plain": [
       "  customer_status  Total\n",
       "0          Stayed   4720\n",
       "1         Churned   1869"
      ]
     },
     "execution_count": 17,
     "metadata": {},
     "output_type": "execute_result"
    },
    {
     "data": {
      "image/png": "[encoded data removed]",
      "text/plain": [
       "<Figure size 432x288 with 1 Axes>"
      ]
     },
     "metadata": {
      "needs_background": "light"
     },
     "output_type": "display_data"
    }
   ],
   "source": [
    "#customer status\n",
    "base_color = sb.color_palette()[0]\n",
    "\n",
    "telecom = data.loc[data.customer_status != 'Joined']\n",
    "sb.countplot(data=telecom, x='customer_status', color = base_color );\n",
    "plt.title('Customer Status at the end of Q2 2022')\n",
    "\n",
    "telecom.groupby(['customer_status']).customer_status.count().sort_values(ascending=False).reset_index(name='Total')"
   ]
  },
  {
   "cell_type": "markdown",
   "metadata": {
    "id": "tERGAiWdlOtm"
   },
   "source": [
    "A large percentage of the clients churned total of 1,869. \n",
    "\n",
    "This been 27% of the customers and might be a substiantial amount in terms of revenue lost. This is substantial and the study will seek to find out the features contributing to the churn. \n",
    "\n",
    "I will look at the **churn category** next"
   ]
  },
  {
   "cell_type": "code",
   "execution_count": 18,
   "metadata": {
    "executionInfo": {
     "elapsed": 3,
     "status": "ok",
     "timestamp": 1659428248198,
     "user": {
      "displayName": "jesse njenga",
      "userId": "15053879897073923228"
     },
     "user_tz": -180
    },
    "id": "D4MNYP9glOtr"
   },
   "outputs": [],
   "source": [
    "# Get the unique values of the `churn category` column, in the decreasing order of the frequency.\n",
    "churn_counts = telecom['churn_category'].value_counts()\n",
    "churn_order = churn_counts.index"
   ]
  },
  {
   "cell_type": "code",
   "execution_count": 26,
   "metadata": {
    "colab": {
     "base_uri": "https://localhost:8080/",
     "height": 485
    },
    "executionInfo": {
     "elapsed": 907,
     "status": "ok",
     "timestamp": 1659428249948,
     "user": {
      "displayName": "jesse njenga",
      "userId": "15053879897073923228"
     },
     "user_tz": -180
    },
    "id": "rFNUncDBlOtw",
    "outputId": "f7007ee3-d3d2-4198-a1bb-12bd2456194d"
   },
   "outputs": [
    {
     "data": {
      "text/html": [
       "<div>\n",
       "<style scoped>\n",
       "    .dataframe tbody tr th:only-of-type {\n",
       "        vertical-align: middle;\n",
       "    }\n",
       "\n",
       "    .dataframe tbody tr th {\n",
       "        vertical-align: top;\n",
       "    }\n",
       "\n",
       "    .dataframe thead th {\n",
       "        text-align: right;\n",
       "    }\n",
       "</style>\n",
       "<table border=\"1\" class=\"dataframe\">\n",
       "  <thead>\n",
       "    <tr style=\"text-align: right;\">\n",
       "      <th></th>\n",
       "      <th>churn_category</th>\n",
       "      <th>Total</th>\n",
       "    </tr>\n",
       "  </thead>\n",
       "  <tbody>\n",
       "    <tr>\n",
       "      <th>0</th>\n",
       "      <td>Competitor</td>\n",
       "      <td>841</td>\n",
       "    </tr>\n",
       "    <tr>\n",
       "      <th>1</th>\n",
       "      <td>Dissatisfaction</td>\n",
       "      <td>321</td>\n",
       "    </tr>\n",
       "    <tr>\n",
       "      <th>2</th>\n",
       "      <td>Attitude</td>\n",
       "      <td>314</td>\n",
       "    </tr>\n",
       "    <tr>\n",
       "      <th>3</th>\n",
       "      <td>Price</td>\n",
       "      <td>211</td>\n",
       "    </tr>\n",
       "  </tbody>\n",
       "</table>\n",
       "</div>"
      ],
      "text/plain": [
       "    churn_category  Total\n",
       "0       Competitor    841\n",
       "1  Dissatisfaction    321\n",
       "2         Attitude    314\n",
       "3            Price    211"
      ]
     },
     "execution_count": 26,
     "metadata": {},
     "output_type": "execute_result"
    },
    {
     "data": {
      "image/png": "[encoded data removed]",
      "text/plain": [
       "<Figure size 432x288 with 1 Axes>"
      ]
     },
     "metadata": {
      "needs_background": "light"
     },
     "output_type": "display_data"
    }
   ],
   "source": [
    "#distribution of churned customers\n",
    "base_color = sb.color_palette()[0]\n",
    "telecom = data.loc[data.churn_category != 'Other']\n",
    "sb.countplot(data=telecom, x='churn_category', color = base_color, order=churn_order );\n",
    "plt.title('Causes of Churn')\n",
    "\n",
    "telecom.groupby(['churn_category']).churn_category.count().sort_values(ascending=False).reset_index(name='Total')"
   ]
  },
  {
   "cell_type": "markdown",
   "metadata": {
    "id": "aqgCQAx4lOtz"
   },
   "source": [
    "#### Main contributor for churn\n",
    " \n",
    "Majority of the churns were attributed to competitors, dissatisfaction of customers by the companys services and support services, attitude of the company and company personel & finally prices of the services offered by the company.\n",
    "\n",
    "**Other** will not be given much weight in this study as these are customers who churned due to reasons such as they were deacesed, moved and unknown.\n",
    "\n",
    "I will proceed to the other features of interest starting with different **Offers** the company offers to customers."
   ]
  },
  {
   "cell_type": "code",
   "execution_count": 27,
   "metadata": {
    "colab": {
     "base_uri": "https://localhost:8080/",
     "height": 515
    },
    "executionInfo": {
     "elapsed": 732,
     "status": "ok",
     "timestamp": 1659428251326,
     "user": {
      "displayName": "jesse njenga",
      "userId": "15053879897073923228"
     },
     "user_tz": -180
    },
    "id": "xO_QdrbslOt3",
    "outputId": "b9452930-d3c5-4173-e706-957bd75fc300"
   },
   "outputs": [
    {
     "data": {
      "text/html": [
       "<div>\n",
       "<style scoped>\n",
       "    .dataframe tbody tr th:only-of-type {\n",
       "        vertical-align: middle;\n",
       "    }\n",
       "\n",
       "    .dataframe tbody tr th {\n",
       "        vertical-align: top;\n",
       "    }\n",
       "\n",
       "    .dataframe thead th {\n",
       "        text-align: right;\n",
       "    }\n",
       "</style>\n",
       "<table border=\"1\" class=\"dataframe\">\n",
       "  <thead>\n",
       "    <tr style=\"text-align: right;\">\n",
       "      <th></th>\n",
       "      <th>offer</th>\n",
       "      <th>Total</th>\n",
       "    </tr>\n",
       "  </thead>\n",
       "  <tbody>\n",
       "    <tr>\n",
       "      <th>0</th>\n",
       "      <td>None</td>\n",
       "      <td>3760</td>\n",
       "    </tr>\n",
       "    <tr>\n",
       "      <th>1</th>\n",
       "      <td>Offer B</td>\n",
       "      <td>819</td>\n",
       "    </tr>\n",
       "    <tr>\n",
       "      <th>2</th>\n",
       "      <td>Offer E</td>\n",
       "      <td>769</td>\n",
       "    </tr>\n",
       "    <tr>\n",
       "      <th>3</th>\n",
       "      <td>Offer D</td>\n",
       "      <td>589</td>\n",
       "    </tr>\n",
       "    <tr>\n",
       "      <th>4</th>\n",
       "      <td>Offer A</td>\n",
       "      <td>518</td>\n",
       "    </tr>\n",
       "    <tr>\n",
       "      <th>5</th>\n",
       "      <td>Offer C</td>\n",
       "      <td>406</td>\n",
       "    </tr>\n",
       "  </tbody>\n",
       "</table>\n",
       "</div>"
      ],
      "text/plain": [
       "     offer  Total\n",
       "0     None   3760\n",
       "1  Offer B    819\n",
       "2  Offer E    769\n",
       "3  Offer D    589\n",
       "4  Offer A    518\n",
       "5  Offer C    406"
      ]
     },
     "execution_count": 27,
     "metadata": {},
     "output_type": "execute_result"
    },
    {
     "data": {
      "image/png": "[encoded data removed]",
      "text/plain": [
       "<Figure size 432x288 with 1 Axes>"
      ]
     },
     "metadata": {
      "needs_background": "light"
     },
     "output_type": "display_data"
    }
   ],
   "source": [
    "#plot for various offers \n",
    "\n",
    "base_color = sb.color_palette()[0]\n",
    "sb.countplot(data=telecom, x='offer', color = base_color);\n",
    "plt.title('Offers for Q2 2022')\n",
    "plt.ylabel('Customers')\n",
    "\n",
    "telecom.groupby(['offer']).offer.count().sort_values(ascending=False).reset_index(name='Total')"
   ]
  },
  {
   "cell_type": "markdown",
   "metadata": {
    "id": "ghJRhduNlOt8"
   },
   "source": [
    "Majority of the customers were not given any offer.The popular offers were Offer B, offer E, offer D, offer A & offer C respectively.\n",
    "\n",
    "We shall at the other features of interest starting with **Total charges**"
   ]
  },
  {
   "cell_type": "code",
   "execution_count": 28,
   "metadata": {
    "colab": {
     "base_uri": "https://localhost:8080/",
     "height": 350
    },
    "executionInfo": {
     "elapsed": 553,
     "status": "ok",
     "timestamp": 1659428252429,
     "user": {
      "displayName": "jesse njenga",
      "userId": "15053879897073923228"
     },
     "user_tz": -180
    },
    "id": "aD9zaLFdlOuA",
    "outputId": "50b78a62-2978-4be0-9da4-32577f058bfd"
   },
   "outputs": [
    {
     "data": {
      "image/png": "[encoded data removed]",
      "text/plain": [
       "<Figure size 576x360 with 1 Axes>"
      ]
     },
     "metadata": {
      "needs_background": "light"
     },
     "output_type": "display_data"
    }
   ],
   "source": [
    "#total charges plot\n",
    "plt.figure(figsize=[8, 5])\n",
    "plt.hist(data = telecom, x = 'total_charges')\n",
    "plt.title('Total Customer Charges for Q2 2022 ')\n",
    "plt.xlabel('charges $')\n",
    "plt.ylabel('count')\n",
    "plt.show()"
   ]
  },
  {
   "cell_type": "code",
   "execution_count": 29,
   "metadata": {
    "colab": {
     "base_uri": "https://localhost:8080/",
     "height": 371
    },
    "executionInfo": {
     "elapsed": 680,
     "status": "ok",
     "timestamp": 1659428253529,
     "user": {
      "displayName": "jesse njenga",
      "userId": "15053879897073923228"
     },
     "user_tz": -180
    },
    "id": "krmp94ivlOuC",
    "outputId": "35493e54-d5ca-4814-e551-e362977dca29"
   },
   "outputs": [
    {
     "data": {
      "image/png": "[encoded data removed]",
      "text/plain": [
       "<Figure size 576x360 with 1 Axes>"
      ]
     },
     "metadata": {
      "needs_background": "light"
     },
     "output_type": "display_data"
    }
   ],
   "source": [
    "# Scale the x-axis to log-type, and change the axis limit\n",
    "plt.figure(figsize=[8, 5])\n",
    "\n",
    "bins = 10 ** np.arange(1.2, 4+0.1, 0.1)\n",
    "ticks = [15, 30,60, 100,200,300,600,900,1500, 3000, 5500,7000, 10000]\n",
    "# Convert ticks into string values, to be displaye dlong the x-axis\n",
    "labels = ['{}'.format(v) for v in ticks]\n",
    "\n",
    "plt.hist(data = telecom, x = 'total_charges', bins = bins);\n",
    "\n",
    "plt.xscale('log')\n",
    "\n",
    "plt.title('Total Customer Charges for Q2 2022 ')\n",
    "plt.xlabel('charges $')\n",
    "# Apply x-ticks\n",
    "plt.xticks(ticks, labels);\n",
    "plt.xticks(rotation = 90)\n",
    "plt.ylabel('count')\n",
    "plt.show()"
   ]
  },
  {
   "cell_type": "markdown",
   "metadata": {
    "id": "6SXZC6IalOuK"
   },
   "source": [
    "Total charges per customers has a long-tailed distribution, with a lot of customers charged below USD 2000. Since the first figure is skewed to the right and I scaled the x-axis to log-type, and changed the axis limit. From the plot majority of the clients are charged between USD 900 & USD 7000 for the quarter.\n",
    "\n",
    "I will proceed to the other features : **total_extra_data_charges**"
   ]
  },
  {
   "cell_type": "code",
   "execution_count": 17,
   "metadata": {
    "colab": {
     "base_uri": "https://localhost:8080/"
    },
    "executionInfo": {
     "elapsed": 6,
     "status": "ok",
     "timestamp": 1659428254945,
     "user": {
      "displayName": "jesse njenga",
      "userId": "15053879897073923228"
     },
     "user_tz": -180
    },
    "id": "sL2LKSXNlOuP",
    "outputId": "7f4a31be-026a-4988-8a12-45d74102b6fa"
   },
   "outputs": [
    {
     "data": {
      "text/plain": [
       "count    7043.000000\n",
       "mean        6.860713\n",
       "std        25.104978\n",
       "min         0.000000\n",
       "25%         0.000000\n",
       "50%         0.000000\n",
       "75%         0.000000\n",
       "max       150.000000\n",
       "Name: total_extra_data_charges, dtype: float64"
      ]
     },
     "execution_count": 17,
     "metadata": {},
     "output_type": "execute_result"
    }
   ],
   "source": [
    "telecom.total_extra_data_charges.describe()"
   ]
  },
  {
   "cell_type": "code",
   "execution_count": 18,
   "metadata": {
    "colab": {
     "base_uri": "https://localhost:8080/",
     "height": 350
    },
    "executionInfo": {
     "elapsed": 1480,
     "status": "ok",
     "timestamp": 1659428258871,
     "user": {
      "displayName": "jesse njenga",
      "userId": "15053879897073923228"
     },
     "user_tz": -180
    },
    "id": "C84ywM0ilOuT",
    "outputId": "5f68935a-ea2b-4aeb-efec-eaa020af3862"
   },
   "outputs": [
    {
     "data": {
      "image/png": "[encoded data removed]",
      "text/plain": [
       "<Figure size 576x360 with 1 Axes>"
      ]
     },
     "metadata": {
      "needs_background": "light"
     },
     "output_type": "display_data"
    }
   ],
   "source": [
    "plt.figure(figsize=[8, 5])\n",
    "\n",
    "bins = np.arange(10, telecom['total_extra_data_charges'].max()+1, 1)\n",
    "\n",
    "plt.hist(data = telecom, x = 'total_extra_data_charges', bins = bins);\n",
    "\n",
    "plt.title('Total Extra Data Charges for Q2 2022 ')\n",
    "plt.xlabel('charges $')\n",
    "plt.ylabel('count')\n",
    "plt.show()\n"
   ]
  },
  {
   "cell_type": "markdown",
   "metadata": {
    "id": "PpKUffn-lOuX"
   },
   "source": [
    "Majority of the clients were charged an extra USD 10 for their data charges. The maximum data charges for the quarter is $ 150\n",
    "\n",
    "I will now look at the categorical features and see if they hold any interesting properties."
   ]
  },
  {
   "cell_type": "code",
   "execution_count": 130,
   "metadata": {
    "executionInfo": {
     "elapsed": 15,
     "status": "ok",
     "timestamp": 1659428289573,
     "user": {
      "displayName": "jesse njenga",
      "userId": "15053879897073923228"
     },
     "user_tz": -180
    },
    "id": "IOje14u0lOug",
    "scrolled": true
   },
   "outputs": [],
   "source": [
    "#value_counts for categorical columns\n",
    "gender_count = telecom.gender.value_counts()\n",
    "married_count = telecom.married.value_counts()\n",
    "offer_count = telecom.offer.value_counts()\n",
    "internet_type_count = telecom.internet_type.value_counts()\n",
    "online_security_count = telecom.online_security.value_counts()\n",
    "online_backup_count = telecom.online_backup.value_counts()\n",
    "device_protection_plan_count = telecom.device_protection_plan.value_counts()\n",
    "premium_tech_support_count = telecom.premium_tech_support.value_counts()"
   ]
  },
  {
   "cell_type": "code",
   "execution_count": 131,
   "metadata": {
    "colab": {
     "base_uri": "https://localhost:8080/",
     "height": 425
    },
    "executionInfo": {
     "elapsed": 948,
     "status": "ok",
     "timestamp": 1659428293060,
     "user": {
      "displayName": "jesse njenga",
      "userId": "15053879897073923228"
     },
     "user_tz": -180
    },
    "id": "YhtG0fCUlOuj",
    "outputId": "0f68c3bd-9b7b-4594-c252-0d8ffee89251"
   },
   "outputs": [
    {
     "data": {
      "image/png": "[encoded data removed]",
      "text/plain": [
       "<Figure size 1080x504 with 8 Axes>"
      ]
     },
     "metadata": {},
     "output_type": "display_data"
    }
   ],
   "source": [
    "#plotting pie charts for categorical columns\n",
    "\n",
    "fig, ax = plt.subplots(2,4, figsize=(15, 7))\n",
    "colors = sb.color_palette('Accent')\n",
    "\n",
    "labels = ['Male','Female']\n",
    "ax[0][0].pie(gender_count, autopct='%.0f', colors=colors, labels=labels)\n",
    "ax[0][0].set_title('Gender', weight='light',fontsize=8)\n",
    "\n",
    "ax[0][1].pie(married_count, autopct='%.0f', colors=colors, labels=['No', 'Yes'])\n",
    "ax[0][1].set_title('Married', weight='light',fontsize=10)\n",
    "\n",
    "ax[0][2].pie(online_security_count, autopct='%.0f', colors=colors,labels=['No', 'Yes'])\n",
    "ax[0][2].set_title('Online Security', weight='light',fontsize=10)\n",
    "\n",
    "ax[0][3].pie(online_backup_count, autopct='%.0f', colors=colors,labels=['No', 'Yes'])\n",
    "ax[0][3].set_title('Online Backup', weight='light',fontsize=10)\n",
    "\n",
    "ax[1][0].pie(device_protection_plan_count, autopct='%.0f', colors=colors,labels=['No', 'Yes'])\n",
    "ax[1][0].set_title('Device Protection Plan', weight='light',fontsize=10)\n",
    "\n",
    "ax[1][1].pie(premium_tech_support_count, autopct='%.0f', colors=colors,labels=['No', 'Yes'])\n",
    "ax[1][1].set_title('Premium Tech Support', weight='light',fontsize=10)\n",
    "\n",
    "ax[1][2].pie(internet_type_count, autopct='%.0f', colors=colors,labels=['Fiber Optic','DSL','Cable'])\n",
    "ax[1][2].set_title('Internet Type', weight='light',fontsize=10)\n",
    "\n",
    "ax[1][3].pie(offer_count, autopct='%.0f', colors=colors,labels=['None', 'OfferB','OfferE','OfferD','OfferA', 'OfferA'])\n",
    "ax[1][3].set_title('Offers', weight='light',fontsize=10)\n",
    "\n",
    "plt.show()"
   ]
  },
  {
   "cell_type": "markdown",
   "metadata": {
    "id": "MmttDHgolOuu"
   },
   "source": [
    "There is a gender balance in our data, Majority of the clients have not subscribed to Online security, Online backup, Device protection plan, Premium tech support.\n",
    "Majority of Customers internet connection type is Fiber Optic, DSL and finally cable.\n",
    "\n",
    "I will look at the **number of referrals** made by customers"
   ]
  },
  {
   "cell_type": "code",
   "execution_count": 44,
   "metadata": {
    "colab": {
     "base_uri": "https://localhost:8080/",
     "height": 350
    },
    "executionInfo": {
     "elapsed": 35,
     "status": "ok",
     "timestamp": 1659428297332,
     "user": {
      "displayName": "jesse njenga",
      "userId": "15053879897073923228"
     },
     "user_tz": -180
    },
    "id": "je-ZSQpglOux",
    "outputId": "646e3bf5-a537-4b60-8749-80c0bd18f430"
   },
   "outputs": [
    {
     "data": {
      "image/png": "[encoded data removed]",
      "text/plain": [
       "<Figure size 576x360 with 1 Axes>"
      ]
     },
     "metadata": {
      "needs_background": "light"
     },
     "output_type": "display_data"
    }
   ],
   "source": [
    "#plot for number of referrals\n",
    "plt.figure(figsize=[8, 5])\n",
    "\n",
    "bins = np.arange(0, telecom['number_of_referrals'].max()+1/4, 1/4)\n",
    "ticks = [0,1,2,3,4,5,6,7,8,9,10]\n",
    "# Convert ticks into string values, to be displaye dlong the x-axis\n",
    "labels = ['{}'.format(v) for v in ticks]\n",
    "\n",
    "plt.hist(data = telecom, x = 'number_of_referrals', bins = bins);\n",
    "\n",
    "plt.title('Referals received in Q2 2022')\n",
    "plt.xticks(ticks, labels);\n",
    "plt.xlabel('Number of referals')\n",
    "plt.yticks(np.arange(0, 200, 600)) \n",
    "plt.ylabel('count')\n",
    "plt.show()"
   ]
  },
  {
   "cell_type": "markdown",
   "metadata": {
    "id": "SNTXEBh6lOu1"
   },
   "source": [
    "Majority of the clients did not make any referrals. For all referrals received, one referral was made by majority of the customers, there is also customers who have 2-10 referrals and hence I conclude there are a number of royal customers.\n",
    "\n",
    "Next I will look at **Long distance charges**"
   ]
  },
  {
   "cell_type": "code",
   "execution_count": 22,
   "metadata": {
    "colab": {
     "base_uri": "https://localhost:8080/"
    },
    "executionInfo": {
     "elapsed": 387,
     "status": "ok",
     "timestamp": 1659428301426,
     "user": {
      "displayName": "jesse njenga",
      "userId": "15053879897073923228"
     },
     "user_tz": -180
    },
    "id": "B9wXYMsMlOu5",
    "outputId": "d4a4fb6e-eb04-44b7-d6f3-e292f3c3cbd9"
   },
   "outputs": [
    {
     "name": "stderr",
     "output_type": "stream",
     "text": [
      "C:\\Users\\jesse.njenga\\Anaconda3\\lib\\site-packages\\pandas\\core\\arraylike.py:358: RuntimeWarning: divide by zero encountered in log10\n",
      "  result = getattr(ufunc, method)(*inputs, **kwargs)\n"
     ]
    },
    {
     "data": {
      "text/plain": [
       "count    3.847758\n",
       "mean     2.874539\n",
       "std      2.927709\n",
       "min          -inf\n",
       "25%      1.848466\n",
       "50%      2.603621\n",
       "75%      3.075948\n",
       "max      3.552025\n",
       "Name: total_long_distance_charges, dtype: float64"
      ]
     },
     "execution_count": 22,
     "metadata": {},
     "output_type": "execute_result"
    }
   ],
   "source": [
    "np.log10(telecom.total_long_distance_charges.describe())"
   ]
  },
  {
   "cell_type": "code",
   "execution_count": 23,
   "metadata": {
    "colab": {
     "base_uri": "https://localhost:8080/",
     "height": 350
    },
    "executionInfo": {
     "elapsed": 436,
     "status": "ok",
     "timestamp": 1659428305470,
     "user": {
      "displayName": "jesse njenga",
      "userId": "15053879897073923228"
     },
     "user_tz": -180
    },
    "id": "zyG2L_X0lOu-",
    "outputId": "f56c8566-93cc-45ce-91cc-3ab26e0786be"
   },
   "outputs": [
    {
     "data": {
      "image/png": "[encoded data removed]",
      "text/plain": [
       "<Figure size 576x360 with 1 Axes>"
      ]
     },
     "metadata": {
      "needs_background": "light"
     },
     "output_type": "display_data"
    }
   ],
   "source": [
    "#histogram for long distance charges\n",
    "\n",
    "plt.figure(figsize=[8, 5])\n",
    "plt.hist(data = telecom, x = 'total_long_distance_charges')\n",
    "\n",
    "plt.title('Long Distance Charges for Q2 222')\n",
    "plt.xlabel('charges $')\n",
    "plt.ylabel('count')\n",
    "plt.show()"
   ]
  },
  {
   "cell_type": "code",
   "execution_count": 24,
   "metadata": {
    "colab": {
     "base_uri": "https://localhost:8080/",
     "height": 350
    },
    "executionInfo": {
     "elapsed": 820,
     "status": "ok",
     "timestamp": 1659428310141,
     "user": {
      "displayName": "jesse njenga",
      "userId": "15053879897073923228"
     },
     "user_tz": -180
    },
    "id": "Ymgvs9EolOvE",
    "outputId": "01bcd2fc-0bf1-4ed7-9851-fa5faa1f18b1"
   },
   "outputs": [
    {
     "data": {
      "image/png": "[encoded data removed]",
      "text/plain": [
       "<Figure size 576x360 with 1 Axes>"
      ]
     },
     "metadata": {
      "needs_background": "light"
     },
     "output_type": "display_data"
    }
   ],
   "source": [
    "# Scale the x-axis to log-type, and change the axis limit\n",
    "plt.figure(figsize=[8, 5])\n",
    "\n",
    "bins = 10 ** np.arange(0, 4+0.1, 0.1)\n",
    "\n",
    "plt.hist(data = telecom, x = 'total_long_distance_charges', bins = bins);\n",
    "\n",
    "plt.xscale('log')\n",
    "\n",
    "plt.title('Long Distance Charges for Q2')\n",
    "plt.xlabel('charges $')\n",
    "# Apply x-ticks\n",
    "plt.xticks([1, 100, 500, 1e3, 2e3, 3e3, 4e3], [1, 100, 500, '1k', '2k', '3k', '4k'])\n",
    "plt.ylabel('count')\n",
    "plt.show()"
   ]
  },
  {
   "cell_type": "markdown",
   "metadata": {
    "id": "m7tapqxXlOvH"
   },
   "source": [
    "The first plot was long tailed and I decided to use log scale. Majority of the customers are charged between 500 & 3k for their long distance services."
   ]
  },
  {
   "cell_type": "markdown",
   "metadata": {
    "id": "HLIbntyGlOvO"
   },
   "source": [
    "### Discuss the distribution(s) of your variable(s) of interest. Were there any unusual points? Did you need to perform any transformations?\n",
    "\n",
    "The total charges, total long distance charges variable took on a large range of values, so I looked at the data using a log transform.\n",
    "\n",
    "### Of the features you investigated, were there any unusual distributions? Did you perform any operations on the data to tidy, adjust, or change the form of the data? If so, why did you do this?\n",
    "\n",
    "Customers with other as the churn reason were dropped, the reasons for churning were not in control of the company and hence not considered in the study. Customers who also joined and the quarter were dropped as the study is mostly interested on the causes of churn."
   ]
  },
  {
   "cell_type": "markdown",
   "metadata": {
    "id": "UWjWYkxYlOvR"
   },
   "source": [
    "## Bivariate Exploration\n",
    "\n",
    "To start off with, I want to look at the relationship between the categorical variables and the predictor variable."
   ]
  },
  {
   "cell_type": "code",
   "execution_count": 146,
   "metadata": {
    "colab": {
     "base_uri": "https://localhost:8080/",
     "height": 296
    },
    "executionInfo": {
     "elapsed": 421,
     "status": "ok",
     "timestamp": 1659428316403,
     "user": {
      "displayName": "jesse njenga",
      "userId": "15053879897073923228"
     },
     "user_tz": -180
    },
    "id": "TYE8zuLVlOvT",
    "outputId": "5db07a10-e8a2-47ee-fb1f-89703beaaee7"
   },
   "outputs": [
    {
     "data": {
      "image/png": "[encoded data removed]",
      "text/plain": [
       "<Figure size 432x288 with 1 Axes>"
      ]
     },
     "metadata": {
      "needs_background": "light"
     },
     "output_type": "display_data"
    },
    {
     "data": {
      "text/html": [
       "<div>\n",
       "<style scoped>\n",
       "    .dataframe tbody tr th:only-of-type {\n",
       "        vertical-align: middle;\n",
       "    }\n",
       "\n",
       "    .dataframe tbody tr th {\n",
       "        vertical-align: top;\n",
       "    }\n",
       "\n",
       "    .dataframe thead th {\n",
       "        text-align: right;\n",
       "    }\n",
       "</style>\n",
       "<table border=\"1\" class=\"dataframe\">\n",
       "  <thead>\n",
       "    <tr style=\"text-align: right;\">\n",
       "      <th></th>\n",
       "      <th>customer_status</th>\n",
       "      <th>internet_type</th>\n",
       "      <th>count</th>\n",
       "    </tr>\n",
       "  </thead>\n",
       "  <tbody>\n",
       "    <tr>\n",
       "      <th>0</th>\n",
       "      <td>Churned</td>\n",
       "      <td>Cable</td>\n",
       "      <td>191</td>\n",
       "    </tr>\n",
       "    <tr>\n",
       "      <th>1</th>\n",
       "      <td>Churned</td>\n",
       "      <td>DSL</td>\n",
       "      <td>267</td>\n",
       "    </tr>\n",
       "    <tr>\n",
       "      <th>2</th>\n",
       "      <td>Churned</td>\n",
       "      <td>Fiber Optic</td>\n",
       "      <td>1119</td>\n",
       "    </tr>\n",
       "    <tr>\n",
       "      <th>3</th>\n",
       "      <td>Stayed</td>\n",
       "      <td>Cable</td>\n",
       "      <td>561</td>\n",
       "    </tr>\n",
       "    <tr>\n",
       "      <th>4</th>\n",
       "      <td>Stayed</td>\n",
       "      <td>DSL</td>\n",
       "      <td>1230</td>\n",
       "    </tr>\n",
       "    <tr>\n",
       "      <th>5</th>\n",
       "      <td>Stayed</td>\n",
       "      <td>Fiber Optic</td>\n",
       "      <td>1698</td>\n",
       "    </tr>\n",
       "  </tbody>\n",
       "</table>\n",
       "</div>"
      ],
      "text/plain": [
       "  customer_status internet_type  count\n",
       "0         Churned         Cable    191\n",
       "1         Churned           DSL    267\n",
       "2         Churned   Fiber Optic   1119\n",
       "3          Stayed         Cable    561\n",
       "4          Stayed           DSL   1230\n",
       "5          Stayed   Fiber Optic   1698"
      ]
     },
     "execution_count": 146,
     "metadata": {},
     "output_type": "execute_result"
    }
   ],
   "source": [
    "#plot internet_type vs customer status\n",
    "\n",
    "sb.countplot(data = telecom, x = 'internet_type', hue = 'customer_status', palette = 'Blues');\n",
    "plt.title('Customer Status vs Internet Type');\n",
    "plt.show()\n",
    "\n",
    "telecom.groupby(['customer_status','internet_type'])['customer_status'].count().reset_index(name='count')"
   ]
  },
  {
   "cell_type": "code",
   "execution_count": 124,
   "metadata": {},
   "outputs": [],
   "source": [
    "fiber = telecom.query('internet_type == \"Fiber Optic\" and customer_status == \"Churned\"')"
   ]
  },
  {
   "cell_type": "code",
   "execution_count": 142,
   "metadata": {},
   "outputs": [
    {
     "data": {
      "text/html": [
       "<div>\n",
       "<style scoped>\n",
       "    .dataframe tbody tr th:only-of-type {\n",
       "        vertical-align: middle;\n",
       "    }\n",
       "\n",
       "    .dataframe tbody tr th {\n",
       "        vertical-align: top;\n",
       "    }\n",
       "\n",
       "    .dataframe thead th {\n",
       "        text-align: right;\n",
       "    }\n",
       "</style>\n",
       "<table border=\"1\" class=\"dataframe\">\n",
       "  <thead>\n",
       "    <tr style=\"text-align: right;\">\n",
       "      <th></th>\n",
       "      <th>churn_reason</th>\n",
       "      <th>count</th>\n",
       "    </tr>\n",
       "  </thead>\n",
       "  <tbody>\n",
       "    <tr>\n",
       "      <th>0</th>\n",
       "      <td>Competitor had better devices</td>\n",
       "      <td>219</td>\n",
       "    </tr>\n",
       "    <tr>\n",
       "      <th>1</th>\n",
       "      <td>Competitor made better offer</td>\n",
       "      <td>219</td>\n",
       "    </tr>\n",
       "    <tr>\n",
       "      <th>2</th>\n",
       "      <td>Attitude of support person</td>\n",
       "      <td>133</td>\n",
       "    </tr>\n",
       "    <tr>\n",
       "      <th>3</th>\n",
       "      <td>Competitor offered more data</td>\n",
       "      <td>87</td>\n",
       "    </tr>\n",
       "    <tr>\n",
       "      <th>4</th>\n",
       "      <td>Attitude of service provider</td>\n",
       "      <td>66</td>\n",
       "    </tr>\n",
       "    <tr>\n",
       "      <th>5</th>\n",
       "      <td>Competitor offered higher download speeds</td>\n",
       "      <td>62</td>\n",
       "    </tr>\n",
       "    <tr>\n",
       "      <th>6</th>\n",
       "      <td>Product dissatisfaction</td>\n",
       "      <td>53</td>\n",
       "    </tr>\n",
       "    <tr>\n",
       "      <th>7</th>\n",
       "      <td>Price too high</td>\n",
       "      <td>53</td>\n",
       "    </tr>\n",
       "    <tr>\n",
       "      <th>8</th>\n",
       "      <td>Network reliability</td>\n",
       "      <td>45</td>\n",
       "    </tr>\n",
       "    <tr>\n",
       "      <th>9</th>\n",
       "      <td>Service dissatisfaction</td>\n",
       "      <td>43</td>\n",
       "    </tr>\n",
       "    <tr>\n",
       "      <th>10</th>\n",
       "      <td>Extra data charges</td>\n",
       "      <td>27</td>\n",
       "    </tr>\n",
       "    <tr>\n",
       "      <th>11</th>\n",
       "      <td>Long distance charges</td>\n",
       "      <td>26</td>\n",
       "    </tr>\n",
       "    <tr>\n",
       "      <th>12</th>\n",
       "      <td>Limited range of services</td>\n",
       "      <td>24</td>\n",
       "    </tr>\n",
       "    <tr>\n",
       "      <th>13</th>\n",
       "      <td>Poor expertise of online support</td>\n",
       "      <td>20</td>\n",
       "    </tr>\n",
       "    <tr>\n",
       "      <th>14</th>\n",
       "      <td>Lack of affordable download/upload speed</td>\n",
       "      <td>20</td>\n",
       "    </tr>\n",
       "    <tr>\n",
       "      <th>15</th>\n",
       "      <td>Lack of self-service on Website</td>\n",
       "      <td>16</td>\n",
       "    </tr>\n",
       "    <tr>\n",
       "      <th>16</th>\n",
       "      <td>Poor expertise of phone support</td>\n",
       "      <td>6</td>\n",
       "    </tr>\n",
       "  </tbody>\n",
       "</table>\n",
       "</div>"
      ],
      "text/plain": [
       "                                 churn_reason  count\n",
       "0               Competitor had better devices    219\n",
       "1                Competitor made better offer    219\n",
       "2                  Attitude of support person    133\n",
       "3                Competitor offered more data     87\n",
       "4                Attitude of service provider     66\n",
       "5   Competitor offered higher download speeds     62\n",
       "6                     Product dissatisfaction     53\n",
       "7                              Price too high     53\n",
       "8                         Network reliability     45\n",
       "9                     Service dissatisfaction     43\n",
       "10                         Extra data charges     27\n",
       "11                      Long distance charges     26\n",
       "12                  Limited range of services     24\n",
       "13           Poor expertise of online support     20\n",
       "14   Lack of affordable download/upload speed     20\n",
       "15            Lack of self-service on Website     16\n",
       "16            Poor expertise of phone support      6"
      ]
     },
     "execution_count": 142,
     "metadata": {},
     "output_type": "execute_result"
    },
    {
     "data": {
      "image/png": "[encoded data removed]",
      "text/plain": [
       "<Figure size 576x360 with 1 Axes>"
      ]
     },
     "metadata": {
      "needs_background": "light"
     },
     "output_type": "display_data"
    }
   ],
   "source": [
    "#plot for churn reason for fiber optic churns\n",
    "\n",
    "plt.figure(figsize=[8, 5])\n",
    "\n",
    "base_color = sb.color_palette()[0]\n",
    "fiber_churn_reasons = fiber.groupby(['churn_reason'])['churn_reason'].size().sort_values(ascending=False).reset_index(name='count')\n",
    "sb.barplot(data = fiber_churn_reasons, y = 'churn_reason', x='count', color = base_color);\n",
    "plt.title('Fiber Optic churn reasons')\n",
    "\n",
    "fiber.groupby(['churn_reason'])['churn_reason'].size().sort_values(ascending=False).reset_index(name='count')"
   ]
  },
  {
   "cell_type": "markdown",
   "metadata": {
    "id": "ARd1i-pXlOvX"
   },
   "source": [
    "It appears that a large number of the customers who churned were under a fiber optic connection.Its interesting that 40% of the fiber optic client churned, I investigated further the reason for churn for the Fiber optic customers. The top reasons for churn were competitors had better devices, made better offers and data. Besides, the attitude of the support persons was also a major reason.\n",
    "\n",
    "Next I will look at the relationship between **Online security, Online backup, Device protection plan,Premium tech support and Churn category**"
   ]
  },
  {
   "cell_type": "code",
   "execution_count": 47,
   "metadata": {
    "colab": {
     "base_uri": "https://localhost:8080/",
     "height": 296
    },
    "executionInfo": {
     "elapsed": 656,
     "status": "ok",
     "timestamp": 1659428324626,
     "user": {
      "displayName": "jesse njenga",
      "userId": "15053879897073923228"
     },
     "user_tz": -180
    },
    "id": "T3k-8FkDlOvd",
    "outputId": "cbe7237c-b264-46a3-de3c-5c584a1e80e6"
   },
   "outputs": [
    {
     "data": {
      "image/png": "[encoded data removed]",
      "text/plain": [
       "<Figure size 432x288 with 1 Axes>"
      ]
     },
     "metadata": {
      "needs_background": "light"
     },
     "output_type": "display_data"
    }
   ],
   "source": [
    "#plot 1: Customer status vs online_security\n",
    "sb.countplot(data = telecom, x = 'online_security', hue = 'customer_status', palette = 'Greens');\n",
    "plt.title('Customer status vs Online security');"
   ]
  },
  {
   "cell_type": "code",
   "execution_count": 48,
   "metadata": {
    "colab": {
     "base_uri": "https://localhost:8080/",
     "height": 296
    },
    "executionInfo": {
     "elapsed": 415,
     "status": "ok",
     "timestamp": 1659428328606,
     "user": {
      "displayName": "jesse njenga",
      "userId": "15053879897073923228"
     },
     "user_tz": -180
    },
    "id": "P6U6f_H_lOvh",
    "outputId": "83984d0b-458b-412f-9bed-bf6f5e0f3ce1"
   },
   "outputs": [
    {
     "data": {
      "image/png": "[encoded data removed]",
      "text/plain": [
       "<Figure size 432x288 with 1 Axes>"
      ]
     },
     "metadata": {
      "needs_background": "light"
     },
     "output_type": "display_data"
    }
   ],
   "source": [
    "#plot 2: internet_type vs online_backup\n",
    "sb.countplot(data = telecom, x = 'online_backup', hue = 'customer_status', palette = 'Greens');\n",
    "plt.title('Customer status vs Online backup');"
   ]
  },
  {
   "cell_type": "code",
   "execution_count": 49,
   "metadata": {
    "colab": {
     "base_uri": "https://localhost:8080/",
     "height": 296
    },
    "executionInfo": {
     "elapsed": 872,
     "status": "ok",
     "timestamp": 1659428333795,
     "user": {
      "displayName": "jesse njenga",
      "userId": "15053879897073923228"
     },
     "user_tz": -180
    },
    "id": "1rhPm6HolOvn",
    "outputId": "3649112d-9128-40bb-81f1-b1e19d7ac63c"
   },
   "outputs": [
    {
     "data": {
      "image/png": "[encoded data removed]",
      "text/plain": [
       "<Figure size 432x288 with 1 Axes>"
      ]
     },
     "metadata": {
      "needs_background": "light"
     },
     "output_type": "display_data"
    }
   ],
   "source": [
    "#plot 3: internet_type vs device_protection_plan\n",
    "sb.countplot(data = telecom, x = 'device_protection_plan', hue = 'customer_status', palette = 'Greens');\n",
    "plt.title('Customer status vs Device Protection Plan');"
   ]
  },
  {
   "cell_type": "code",
   "execution_count": 50,
   "metadata": {
    "colab": {
     "base_uri": "https://localhost:8080/",
     "height": 296
    },
    "executionInfo": {
     "elapsed": 472,
     "status": "ok",
     "timestamp": 1659428337451,
     "user": {
      "displayName": "jesse njenga",
      "userId": "15053879897073923228"
     },
     "user_tz": -180
    },
    "id": "fE954Ly7lOvr",
    "outputId": "02b2be03-882b-4f49-9050-2da7b417e3db"
   },
   "outputs": [
    {
     "data": {
      "image/png": "[encoded data removed]",
      "text/plain": [
       "<Figure size 432x288 with 1 Axes>"
      ]
     },
     "metadata": {
      "needs_background": "light"
     },
     "output_type": "display_data"
    }
   ],
   "source": [
    "#plot 4: internet_type vs premium_tech_support\n",
    "sb.countplot(data = telecom, x = 'premium_tech_support', hue = 'customer_status', palette = 'Greens');\n",
    "plt.title('Customer status vs Premium Tech Support');"
   ]
  },
  {
   "cell_type": "markdown",
   "metadata": {
    "id": "OtHL2V0llOvv"
   },
   "source": [
    "From the above plots, For each feature, majority of the customers who churned had not subscribed to any plan that is online security plan, online backup plan, online protection plan and premium tech support subscription.\n",
    "\n",
    "I will look at the relationship between **Total charges** and the **Customer status**"
   ]
  },
  {
   "cell_type": "code",
   "execution_count": 51,
   "metadata": {
    "colab": {
     "base_uri": "https://localhost:8080/",
     "height": 345
    },
    "executionInfo": {
     "elapsed": 493,
     "status": "ok",
     "timestamp": 1659428342673,
     "user": {
      "displayName": "jesse njenga",
      "userId": "15053879897073923228"
     },
     "user_tz": -180
    },
    "id": "c7zoZ0uMlOvy",
    "outputId": "f4376141-253a-45e2-f2e5-d616e99e88f4"
   },
   "outputs": [
    {
     "data": {
      "image/png": "[encoded data removed]",
      "text/plain": [
       "<Figure size 720x360 with 1 Axes>"
      ]
     },
     "metadata": {
      "needs_background": "light"
     },
     "output_type": "display_data"
    }
   ],
   "source": [
    "#Total charges vs customer status\n",
    "plt.figure(figsize = [10, 5])\n",
    "base_color = sb.color_palette()[0]\n",
    "\n",
    "sb.boxplot(data=telecom, x='customer_status', y='total_charges', color=base_color)\n",
    "plt.xticks(rotation=15);\n"
   ]
  },
  {
   "cell_type": "markdown",
   "metadata": {
    "id": "6dRxGfAElOv0"
   },
   "source": [
    "From the boxplot, its interesting majority of the customers who churned were charged lower than those who stayed. \n",
    "\n",
    "Next, I will look at the relationship between **Total charges** and the **Churn Category**"
   ]
  },
  {
   "cell_type": "code",
   "execution_count": 52,
   "metadata": {
    "colab": {
     "base_uri": "https://localhost:8080/",
     "height": 353
    },
    "executionInfo": {
     "elapsed": 1510,
     "status": "ok",
     "timestamp": 1659428361123,
     "user": {
      "displayName": "jesse njenga",
      "userId": "15053879897073923228"
     },
     "user_tz": -180
    },
    "id": "zIKVcUnVlOv1",
    "outputId": "2a9155de-d46f-4692-d43d-18f68a9951c8"
   },
   "outputs": [
    {
     "data": {
      "image/png": "[encoded data removed]",
      "text/plain": [
       "<Figure size 1152x360 with 2 Axes>"
      ]
     },
     "metadata": {
      "needs_background": "light"
     },
     "output_type": "display_data"
    }
   ],
   "source": [
    "#Total charges vs customer status\n",
    "plt.figure(figsize = [16, 5])\n",
    "base_color = sb.color_palette()[0]\n",
    "\n",
    "# LEFT plot: violin plot\n",
    "plt.subplot(1, 2, 1)\n",
    "ax1 = sb.violinplot(data=telecom, x='churn_category', y='total_charges', color=base_color)\n",
    "plt.xticks(rotation=15);\n",
    "\n",
    "# RIGHT plot: box plot\n",
    "plt.subplot(1, 2, 2)\n",
    "sb.boxplot(data=telecom, x='churn_category', y='total_charges', color=base_color)\n",
    "plt.xticks(rotation=15);"
   ]
  },
  {
   "cell_type": "markdown",
   "metadata": {
    "id": "MExHxeN_lOv3"
   },
   "source": [
    "Majority Customers who churned was due to dissatifaction of the services were the highest charged, followed by price and competitors. Besides, We have the highest outliers in the competitors which shows we had several clients who billed highly. Finally,attitude of the company and its staff. \n",
    "\n",
    "We shall look at the relationship between **Extra data charges** and the **churn category** for clients who subscribed for internet services."
   ]
  },
  {
   "cell_type": "code",
   "execution_count": 53,
   "metadata": {
    "executionInfo": {
     "elapsed": 337,
     "status": "ok",
     "timestamp": 1659428367931,
     "user": {
      "displayName": "jesse njenga",
      "userId": "15053879897073923228"
     },
     "user_tz": -180
    },
    "id": "j39JtNytlOv5"
   },
   "outputs": [],
   "source": [
    "#Internet service customers who were charges $ 10 or more dollars\n",
    "internet = telecom.query('internet_service == \"Yes\" & total_extra_data_charges >= 10')"
   ]
  },
  {
   "cell_type": "code",
   "execution_count": 65,
   "metadata": {
    "colab": {
     "base_uri": "https://localhost:8080/",
     "height": 497
    },
    "executionInfo": {
     "elapsed": 1086,
     "status": "ok",
     "timestamp": 1659428540364,
     "user": {
      "displayName": "jesse njenga",
      "userId": "15053879897073923228"
     },
     "user_tz": -180
    },
    "id": "CkVeq9mVlOv8",
    "outputId": "47eae3b9-254a-4c80-a962-621fedcc1f77"
   },
   "outputs": [
    {
     "data": {
      "text/html": [
       "<div>\n",
       "<style scoped>\n",
       "    .dataframe tbody tr th:only-of-type {\n",
       "        vertical-align: middle;\n",
       "    }\n",
       "\n",
       "    .dataframe tbody tr th {\n",
       "        vertical-align: top;\n",
       "    }\n",
       "\n",
       "    .dataframe thead th {\n",
       "        text-align: right;\n",
       "    }\n",
       "</style>\n",
       "<table border=\"1\" class=\"dataframe\">\n",
       "  <thead>\n",
       "    <tr style=\"text-align: right;\">\n",
       "      <th></th>\n",
       "      <th>count</th>\n",
       "      <th>total_extra_data_charges</th>\n",
       "    </tr>\n",
       "    <tr>\n",
       "      <th>customer_status</th>\n",
       "      <th></th>\n",
       "      <th></th>\n",
       "    </tr>\n",
       "  </thead>\n",
       "  <tbody>\n",
       "    <tr>\n",
       "      <th>Churned</th>\n",
       "      <td>219</td>\n",
       "      <td>12120</td>\n",
       "    </tr>\n",
       "    <tr>\n",
       "      <th>Stayed</th>\n",
       "      <td>445</td>\n",
       "      <td>33860</td>\n",
       "    </tr>\n",
       "  </tbody>\n",
       "</table>\n",
       "</div>"
      ],
      "text/plain": [
       "                 count  total_extra_data_charges\n",
       "customer_status                                 \n",
       "Churned            219                     12120\n",
       "Stayed             445                     33860"
      ]
     },
     "execution_count": 65,
     "metadata": {},
     "output_type": "execute_result"
    },
    {
     "data": {
      "image/png": "[encoded data removed]",
      "text/plain": [
       "<Figure size 1152x360 with 1 Axes>"
      ]
     },
     "metadata": {
      "needs_background": "light"
     },
     "output_type": "display_data"
    }
   ],
   "source": [
    "#Total charges vs customer status\n",
    "plt.figure(figsize = [16, 5])\n",
    "base_color = sb.color_palette()[0]\n",
    "\n",
    "ax = sb.countplot(data = internet, x = 'total_extra_data_charges', hue = 'customer_status', palette = 'Pastel2');\n",
    "plt.title('Total Extra Data Charges for Internet Service')\n",
    "plt.xticks(rotation=15);\n",
    "#ax.set_ylim(0, 45);\n",
    "\n",
    "pd.pivot_table(\n",
    "   internet,\n",
    "   index=['customer_status'],\n",
    "   aggfunc={'total_extra_data_charges': np.sum, 'customer_status': len}\n",
    ").rename(columns={'customer_status': 'count'})"
   ]
  },
  {
   "cell_type": "markdown",
   "metadata": {
    "id": "dkJUHtGulOv-"
   },
   "source": [
    "Its interesting as the charges for extra data charges increased the churn rate reduced.\n",
    "\n",
    "We shall look at the relationship between **churn category**  and **long distance charges** for customers who subscribed to phone services."
   ]
  },
  {
   "cell_type": "code",
   "execution_count": 55,
   "metadata": {
    "executionInfo": {
     "elapsed": 461,
     "status": "ok",
     "timestamp": 1659428629562,
     "user": {
      "displayName": "jesse njenga",
      "userId": "15053879897073923228"
     },
     "user_tz": -180
    },
    "id": "oohciemrlOv_"
   },
   "outputs": [],
   "source": [
    "#Phone service customers \n",
    "phone = telecom.query('phone_service == \"Yes\"')"
   ]
  },
  {
   "cell_type": "code",
   "execution_count": 63,
   "metadata": {
    "colab": {
     "base_uri": "https://localhost:8080/",
     "height": 504
    },
    "executionInfo": {
     "elapsed": 898,
     "status": "ok",
     "timestamp": 1659428632279,
     "user": {
      "displayName": "jesse njenga",
      "userId": "15053879897073923228"
     },
     "user_tz": -180
    },
    "id": "tXFVx0_glOwA",
    "outputId": "2a3eb9ea-37c2-4851-cb12-6874a7b8d05f"
   },
   "outputs": [
    {
     "data": {
      "text/html": [
       "<div>\n",
       "<style scoped>\n",
       "    .dataframe tbody tr th:only-of-type {\n",
       "        vertical-align: middle;\n",
       "    }\n",
       "\n",
       "    .dataframe tbody tr th {\n",
       "        vertical-align: top;\n",
       "    }\n",
       "\n",
       "    .dataframe thead th {\n",
       "        text-align: right;\n",
       "    }\n",
       "</style>\n",
       "<table border=\"1\" class=\"dataframe\">\n",
       "  <thead>\n",
       "    <tr style=\"text-align: right;\">\n",
       "      <th></th>\n",
       "      <th>count</th>\n",
       "      <th>total_long_distance_charges</th>\n",
       "    </tr>\n",
       "    <tr>\n",
       "      <th>customer_status</th>\n",
       "      <th></th>\n",
       "      <th></th>\n",
       "    </tr>\n",
       "  </thead>\n",
       "  <tbody>\n",
       "    <tr>\n",
       "      <th>Churned</th>\n",
       "      <td>1533</td>\n",
       "      <td>734932.98</td>\n",
       "    </tr>\n",
       "    <tr>\n",
       "      <th>Stayed</th>\n",
       "      <td>4246</td>\n",
       "      <td>4447605.00</td>\n",
       "    </tr>\n",
       "  </tbody>\n",
       "</table>\n",
       "</div>"
      ],
      "text/plain": [
       "                 count  total_long_distance_charges\n",
       "customer_status                                    \n",
       "Churned           1533                    734932.98\n",
       "Stayed            4246                   4447605.00"
      ]
     },
     "execution_count": 63,
     "metadata": {},
     "output_type": "execute_result"
    },
    {
     "data": {
      "image/png": "[encoded data removed]",
      "text/plain": [
       "<Figure size 432x360 with 1 Axes>"
      ]
     },
     "metadata": {
      "needs_background": "light"
     },
     "output_type": "display_data"
    }
   ],
   "source": [
    "#Total long distance charges vs customer status\n",
    "plt.figure(figsize = [6, 5])\n",
    "\n",
    "#pointplot\n",
    "#sb.pointplot(data=phone,x='customer_status', y='total_long_distance_charges', color=base_color, ci='sd', linestyles=\"\");\n",
    "sb.barplot( data=phone ,x='customer_status', y='total_long_distance_charges', color=base_color);\n",
    "plt.xticks(rotation=15);\n",
    "plt.title('Total Long Distance Charges for Phone Service')\n",
    "plt.ylabel('Avg. Long Distance Charges($)');\n",
    "\n",
    "pd.pivot_table(\n",
    "   phone,\n",
    "   index=['customer_status'],\n",
    "   aggfunc={'total_long_distance_charges': np.sum, 'customer_status': len}\n",
    ").rename(columns={'customer_status': 'count'})\n"
   ]
  },
  {
   "cell_type": "markdown",
   "metadata": {
    "id": "4TLEM7ZclOwB"
   },
   "source": [
    "A total of 1533 customers churned, this translates to $ 734932.98 of revenue lost.\n",
    "\n",
    "Next, I will look at the relationship between **offers** and **customer status** "
   ]
  },
  {
   "cell_type": "code",
   "execution_count": 150,
   "metadata": {
    "colab": {
     "base_uri": "https://localhost:8080/",
     "height": 280
    },
    "executionInfo": {
     "elapsed": 2061,
     "status": "ok",
     "timestamp": 1659429510957,
     "user": {
      "displayName": "jesse njenga",
      "userId": "15053879897073923228"
     },
     "user_tz": -180
    },
    "id": "Lxz9QPavlOwC",
    "outputId": "f73998ec-ad6f-40b5-bbbb-edb5abab70a7"
   },
   "outputs": [
    {
     "data": {
      "image/png": "[encoded data removed]",
      "text/plain": [
       "<Figure size 720x360 with 2 Axes>"
      ]
     },
     "metadata": {
      "needs_background": "light"
     },
     "output_type": "display_data"
    }
   ],
   "source": [
    "offer_count = telecom.groupby(['offer', 'customer_status']).size()\n",
    "\n",
    "# Use DataFrame.pivot() to rearrange the data\n",
    "offer_count = offer_count.reset_index(name='count')\n",
    "\n",
    "offer_count = offer_count.pivot(index = 'offer', columns = 'customer_status', values = 'count')\n",
    "\n",
    "plt.figure(figsize = [10, 5])\n",
    "sb.heatmap(offer_count, annot = True, fmt = '.0f');"
   ]
  },
  {
   "cell_type": "markdown",
   "metadata": {},
   "source": [
    "Majority of the churned customers did not receive any offer, for customers who received offer E majority churned.\n",
    "\n",
    "I will look at the relationship between the number of **referals** and the **customer status**."
   ]
  },
  {
   "cell_type": "code",
   "execution_count": 81,
   "metadata": {},
   "outputs": [
    {
     "data": {
      "image/png": "[encoded data removed]",
      "text/plain": [
       "<Figure size 576x360 with 1 Axes>"
      ]
     },
     "metadata": {
      "needs_background": "light"
     },
     "output_type": "display_data"
    },
    {
     "data": {
      "text/html": [
       "<div>\n",
       "<style scoped>\n",
       "    .dataframe tbody tr th:only-of-type {\n",
       "        vertical-align: middle;\n",
       "    }\n",
       "\n",
       "    .dataframe tbody tr th {\n",
       "        vertical-align: top;\n",
       "    }\n",
       "\n",
       "    .dataframe thead th {\n",
       "        text-align: right;\n",
       "    }\n",
       "</style>\n",
       "<table border=\"1\" class=\"dataframe\">\n",
       "  <thead>\n",
       "    <tr style=\"text-align: right;\">\n",
       "      <th></th>\n",
       "      <th>number_of_referrals</th>\n",
       "      <th>customer_status</th>\n",
       "      <th>count</th>\n",
       "    </tr>\n",
       "  </thead>\n",
       "  <tbody>\n",
       "    <tr>\n",
       "      <th>0</th>\n",
       "      <td>0</td>\n",
       "      <td>Churned</td>\n",
       "      <td>1126</td>\n",
       "    </tr>\n",
       "    <tr>\n",
       "      <th>1</th>\n",
       "      <td>0</td>\n",
       "      <td>Stayed</td>\n",
       "      <td>2203</td>\n",
       "    </tr>\n",
       "    <tr>\n",
       "      <th>2</th>\n",
       "      <td>1</td>\n",
       "      <td>Churned</td>\n",
       "      <td>455</td>\n",
       "    </tr>\n",
       "    <tr>\n",
       "      <th>3</th>\n",
       "      <td>1</td>\n",
       "      <td>Stayed</td>\n",
       "      <td>564</td>\n",
       "    </tr>\n",
       "    <tr>\n",
       "      <th>4</th>\n",
       "      <td>2</td>\n",
       "      <td>Churned</td>\n",
       "      <td>23</td>\n",
       "    </tr>\n",
       "    <tr>\n",
       "      <th>5</th>\n",
       "      <td>2</td>\n",
       "      <td>Stayed</td>\n",
       "      <td>203</td>\n",
       "    </tr>\n",
       "    <tr>\n",
       "      <th>6</th>\n",
       "      <td>3</td>\n",
       "      <td>Churned</td>\n",
       "      <td>30</td>\n",
       "    </tr>\n",
       "    <tr>\n",
       "      <th>7</th>\n",
       "      <td>3</td>\n",
       "      <td>Stayed</td>\n",
       "      <td>215</td>\n",
       "    </tr>\n",
       "    <tr>\n",
       "      <th>8</th>\n",
       "      <td>4</td>\n",
       "      <td>Churned</td>\n",
       "      <td>16</td>\n",
       "    </tr>\n",
       "    <tr>\n",
       "      <th>9</th>\n",
       "      <td>4</td>\n",
       "      <td>Stayed</td>\n",
       "      <td>215</td>\n",
       "    </tr>\n",
       "    <tr>\n",
       "      <th>10</th>\n",
       "      <td>5</td>\n",
       "      <td>Churned</td>\n",
       "      <td>20</td>\n",
       "    </tr>\n",
       "    <tr>\n",
       "      <th>11</th>\n",
       "      <td>5</td>\n",
       "      <td>Stayed</td>\n",
       "      <td>234</td>\n",
       "    </tr>\n",
       "    <tr>\n",
       "      <th>12</th>\n",
       "      <td>6</td>\n",
       "      <td>Churned</td>\n",
       "      <td>6</td>\n",
       "    </tr>\n",
       "    <tr>\n",
       "      <th>13</th>\n",
       "      <td>6</td>\n",
       "      <td>Stayed</td>\n",
       "      <td>206</td>\n",
       "    </tr>\n",
       "    <tr>\n",
       "      <th>14</th>\n",
       "      <td>7</td>\n",
       "      <td>Churned</td>\n",
       "      <td>5</td>\n",
       "    </tr>\n",
       "    <tr>\n",
       "      <th>15</th>\n",
       "      <td>7</td>\n",
       "      <td>Stayed</td>\n",
       "      <td>237</td>\n",
       "    </tr>\n",
       "    <tr>\n",
       "      <th>16</th>\n",
       "      <td>8</td>\n",
       "      <td>Churned</td>\n",
       "      <td>2</td>\n",
       "    </tr>\n",
       "    <tr>\n",
       "      <th>17</th>\n",
       "      <td>8</td>\n",
       "      <td>Stayed</td>\n",
       "      <td>204</td>\n",
       "    </tr>\n",
       "    <tr>\n",
       "      <th>18</th>\n",
       "      <td>9</td>\n",
       "      <td>Churned</td>\n",
       "      <td>4</td>\n",
       "    </tr>\n",
       "    <tr>\n",
       "      <th>19</th>\n",
       "      <td>9</td>\n",
       "      <td>Stayed</td>\n",
       "      <td>222</td>\n",
       "    </tr>\n",
       "    <tr>\n",
       "      <th>20</th>\n",
       "      <td>10</td>\n",
       "      <td>Stayed</td>\n",
       "      <td>215</td>\n",
       "    </tr>\n",
       "    <tr>\n",
       "      <th>21</th>\n",
       "      <td>11</td>\n",
       "      <td>Stayed</td>\n",
       "      <td>2</td>\n",
       "    </tr>\n",
       "  </tbody>\n",
       "</table>\n",
       "</div>"
      ],
      "text/plain": [
       "    number_of_referrals customer_status  count\n",
       "0                     0         Churned   1126\n",
       "1                     0          Stayed   2203\n",
       "2                     1         Churned    455\n",
       "3                     1          Stayed    564\n",
       "4                     2         Churned     23\n",
       "5                     2          Stayed    203\n",
       "6                     3         Churned     30\n",
       "7                     3          Stayed    215\n",
       "8                     4         Churned     16\n",
       "9                     4          Stayed    215\n",
       "10                    5         Churned     20\n",
       "11                    5          Stayed    234\n",
       "12                    6         Churned      6\n",
       "13                    6          Stayed    206\n",
       "14                    7         Churned      5\n",
       "15                    7          Stayed    237\n",
       "16                    8         Churned      2\n",
       "17                    8          Stayed    204\n",
       "18                    9         Churned      4\n",
       "19                    9          Stayed    222\n",
       "20                   10          Stayed    215\n",
       "21                   11          Stayed      2"
      ]
     },
     "execution_count": 81,
     "metadata": {},
     "output_type": "execute_result"
    }
   ],
   "source": [
    "#plot for number of referrals\n",
    "plt.figure(figsize=[8, 5])\n",
    "\n",
    "sb.countplot(data = telecom, y = 'number_of_referrals',hue='customer_status', palette='Greens');\n",
    "\n",
    "plt.title('Referals received in Q2 2022')\n",
    "plt.xlabel('Number of referals')\n",
    "plt.ylabel('count')\n",
    "plt.show()\n",
    "\n",
    "telecom.groupby(['number_of_referrals','customer_status'])['customer_status'].count().reset_index(name='count')\n"
   ]
  },
  {
   "cell_type": "markdown",
   "metadata": {},
   "source": [
    "Churn rate and number of referrals are negatively correlated, as the number of referrals increases the churn rate reduces."
   ]
  },
  {
   "cell_type": "code",
   "execution_count": 64,
   "metadata": {
    "id": "blTUv8tLlOwC",
    "outputId": "dcc465a6-e12b-4c31-b90a-7e9a3a5ff6f7"
   },
   "outputs": [
    {
     "data": {
      "text/html": [
       "<div>\n",
       "<style scoped>\n",
       "    .dataframe tbody tr th:only-of-type {\n",
       "        vertical-align: middle;\n",
       "    }\n",
       "\n",
       "    .dataframe tbody tr th {\n",
       "        vertical-align: top;\n",
       "    }\n",
       "\n",
       "    .dataframe thead th {\n",
       "        text-align: right;\n",
       "    }\n",
       "</style>\n",
       "<table border=\"1\" class=\"dataframe\">\n",
       "  <thead>\n",
       "    <tr style=\"text-align: right;\">\n",
       "      <th></th>\n",
       "      <th>Total</th>\n",
       "      <th>Revenue</th>\n",
       "    </tr>\n",
       "    <tr>\n",
       "      <th>customer_status</th>\n",
       "      <th></th>\n",
       "      <th></th>\n",
       "    </tr>\n",
       "  </thead>\n",
       "  <tbody>\n",
       "    <tr>\n",
       "      <th>Churned</th>\n",
       "      <td>1687</td>\n",
       "      <td>3330070.68</td>\n",
       "    </tr>\n",
       "    <tr>\n",
       "      <th>Stayed</th>\n",
       "      <td>4720</td>\n",
       "      <td>17632392.12</td>\n",
       "    </tr>\n",
       "  </tbody>\n",
       "</table>\n",
       "</div>"
      ],
      "text/plain": [
       "                 Total      Revenue\n",
       "customer_status                    \n",
       "Churned           1687   3330070.68\n",
       "Stayed            4720  17632392.12"
      ]
     },
     "execution_count": 64,
     "metadata": {},
     "output_type": "execute_result"
    },
    {
     "data": {
      "image/png": "[encoded data removed]",
      "text/plain": [
       "<Figure size 504x360 with 1 Axes>"
      ]
     },
     "metadata": {
      "needs_background": "light"
     },
     "output_type": "display_data"
    }
   ],
   "source": [
    "#Total revenue lost due to churns\n",
    "\n",
    "base_color = sb.color_palette()[0]\n",
    "\n",
    "plt.figure(figsize=(7, 5))\n",
    "sb.barplot( data=telecom ,y='total_revenue', x='customer_status', color=base_color)\n",
    "plt.ylabel('Avg. Revenue Lost ($)')\n",
    "plt.xticks(fontsize=10, rotation=90)\n",
    "plt.yticks(fontsize=10)\n",
    "\n",
    "telecom.groupby(['customer_status']).agg({'customer_status': 'count', 'total_revenue': 'sum'}).rename(columns={'customer_status': 'Total', 'total_revenue':'Revenue'})"
   ]
  },
  {
   "cell_type": "markdown",
   "metadata": {
    "id": "8IR1iPJFlOwE"
   },
   "source": [
    "The company lost revenue worth USD 3,684,459.82 for the quarter, this is a worrying trend that the company needs to address.\n"
   ]
  },
  {
   "cell_type": "markdown",
   "metadata": {
    "id": "MwoGIU42lOwE"
   },
   "source": [
    "### Talk about some of the relationships you observed in this part of the investigation. How did the feature(s) of interest vary with other features in the dataset?\n",
    "\n",
    "Majority of the customers who churned were charged lower than those who stayed. Majority Customers who churned was due to dissatifaction of the services were the highest charged, followed by price and competitors. Besides, We have the highest outliers in the competitors which shows we had several clients who billed highly. Finally,attitude of the company and its staff. The number of referrals increased as the churn rate reduced.\n",
    "Its interesting as the charges for extra data charges increased the churn rate reduced. Majority of the churned customers did not receive any offer, for customers who received offer E majority churned.\n",
    "\n",
    "\n",
    "### Did you observe any interesting relationships between the other features (not the main feature(s) of interest)?\n",
    "\n",
    "Majority of the customers who churned had not subscripted to any plan that is online security plan, online backup plan, online protection plan and premium tech support subscription.\n",
    "The company lost revenue worth USD 3,684,459.82 for the quarter, this is a worrying trend that the company needs to address.\n",
    "\n"
   ]
  },
  {
   "cell_type": "markdown",
   "metadata": {
    "id": "3B3FmUFLlOwF"
   },
   "source": [
    "## Multivariate Exploration\n",
    "\n",
    "In the next plots I will focus entirely on the churned customers. This inorder to investigate further the main causes of churn.\n",
    "\n",
    "#### Total long distance charges across customer status and churn category"
   ]
  },
  {
   "cell_type": "code",
   "execution_count": 100,
   "metadata": {},
   "outputs": [],
   "source": [
    "#churned dataframe for phone customers\n",
    "telecom_churned = telecom.query('phone_service == \"Yes\" and customer_status == \"Churned\"')"
   ]
  },
  {
   "cell_type": "code",
   "execution_count": 153,
   "metadata": {
    "id": "UPwuNxLrlOwF",
    "scrolled": true
   },
   "outputs": [
    {
     "data": {
      "image/png": "[encoded data removed]",
      "text/plain": [
       "<Figure size 504x360 with 1 Axes>"
      ]
     },
     "metadata": {
      "needs_background": "light"
     },
     "output_type": "display_data"
    }
   ],
   "source": [
    "fig = plt.figure(figsize = [7,5])\n",
    "sb.barplot(data = telecom_churned, x = 'customer_status', y = 'total_long_distance_charges', hue = 'churn_category',\n",
    "           palette = 'Greens')\n",
    "plt.title('Long distance charges across customer status and churn category')\n",
    "\n",
    "plt.show();\n"
   ]
  },
  {
   "cell_type": "markdown",
   "metadata": {},
   "source": [
    "The major cause of churn for customers who churned due to long distance charges was price, competitors, dissatisfaction and finally attitude of the service provider.\n",
    "\n",
    "#### Total extra data charges across customer status and churn category"
   ]
  },
  {
   "cell_type": "code",
   "execution_count": 111,
   "metadata": {},
   "outputs": [],
   "source": [
    "#churned dataframe for internet customers\n",
    "telecom_churned2 = telecom.query('internet_service == \"Yes\" and customer_status == \"Churned\"')"
   ]
  },
  {
   "cell_type": "code",
   "execution_count": 112,
   "metadata": {},
   "outputs": [
    {
     "data": {
      "image/png": "[encoded data removed]",
      "text/plain": [
       "<Figure size 432x288 with 2 Axes>"
      ]
     },
     "metadata": {
      "needs_background": "light"
     },
     "output_type": "display_data"
    }
   ],
   "source": [
    "#heatmap\n",
    "total_charges_means = telecom_churned2.groupby(['customer_status', 'churn_category']).mean()['total_extra_data_charges']\n",
    "total_charges_means = total_charges_means.reset_index(name = 'total_extra_data_charges_avg')\n",
    "total_charges_means = total_charges_means.pivot(index = 'churn_category', columns = 'customer_status',\n",
    "                            values = 'total_extra_data_charges_avg')\n",
    "sb.heatmap(total_charges_means, annot = True, fmt = '.3f',\n",
    "           cbar_kws = {'label' : 'mean(total_extra_data_charges)'});"
   ]
  },
  {
   "cell_type": "markdown",
   "metadata": {},
   "source": [
    "The major cause of churn for customers who subscribed to extra data charges were price, dissatisfaction, attitude and finally competitors of the service provider.\n",
    "\n",
    "#### Total  charges across customer status and churn category"
   ]
  },
  {
   "cell_type": "code",
   "execution_count": 84,
   "metadata": {
    "scrolled": true
   },
   "outputs": [
    {
     "data": {
      "image/png": "[encoded data removed]",
      "text/plain": [
       "<Figure size 432x288 with 2 Axes>"
      ]
     },
     "metadata": {
      "needs_background": "light"
     },
     "output_type": "display_data"
    }
   ],
   "source": [
    "#plot for total charges vs customer status & churn category\n",
    "total_charges_means = telecom_churned.groupby(['customer_status', 'churn_category']).mean()['total_charges']\n",
    "total_charges_means = total_charges_means.reset_index(name = 'total_charges_avg')\n",
    "total_charges_means = total_charges_means.pivot(index = 'churn_category', columns = 'customer_status',\n",
    "                            values = 'total_charges_avg')\n",
    "sb.heatmap(total_charges_means, annot = True, fmt = '.3f',\n",
    "           cbar_kws = {'label' : 'mean(total_charges)'});\n"
   ]
  },
  {
   "cell_type": "code",
   "execution_count": 103,
   "metadata": {},
   "outputs": [
    {
     "data": {
      "image/png": "[encoded data removed]",
      "text/plain": [
       "<Figure size 576x432 with 1 Axes>"
      ]
     },
     "metadata": {
      "needs_background": "light"
     },
     "output_type": "display_data"
    }
   ],
   "source": [
    "#reasons for churn across long distance charges\n",
    "fig = plt.figure(figsize = [8,6])\n",
    "sb.histplot(data = telecom_churned, x = 'total_charges', y = 'churn_reason', hue = 'churn_category',\n",
    "           );\n",
    "plt.title('Churn reasons across Total charges and churn category');"
   ]
  },
  {
   "cell_type": "markdown",
   "metadata": {},
   "source": [
    "Intrestingly, as the case for long distance charges, the major cause of churn for customers who churned due to total charges was price, competitors, dissatisfaction and finally attitude of the service provider.\n",
    "I investigated further the reason for churn, the major reasons for churn under Price are Price too high, extra data charges, long distance charges and lack affordable download/upload speed.\n",
    "Churn reasons under competitors were competitors had better devices, they made better offers, they offered higher download speeds and more data.\n",
    "Under dissatisfaction customers mainly churned due to product & services dissatisfaction, network realibility limited range of services and poor expertise of phone & online support.\n",
    "For Attitude customers mainly churned due to attitude of support persons and the company.\n",
    "\n",
    "#### Online backup, Online security,Device protection plan, Premium tech support  across customer status and churn category"
   ]
  },
  {
   "cell_type": "code",
   "execution_count": 115,
   "metadata": {},
   "outputs": [],
   "source": [
    "#creating dataframes\n",
    "backup = telecom.groupby(['customer_status','online_backup', 'churn_category'])['online_backup'].size()\n",
    "backup = backup.reset_index(name='count')\n",
    "device = telecom.groupby(['customer_status','device_protection_plan', 'churn_category'])['device_protection_plan'].size()\n",
    "device = device.reset_index(name='count')\n",
    "security = telecom.groupby(['customer_status','online_security', 'churn_category'])['online_security'].size()\n",
    "security = security.reset_index(name='count')\n",
    "tech = telecom.groupby(['customer_status','premium_tech_support', 'churn_category'])['premium_tech_support'].size()\n",
    "tech = tech.reset_index(name='count')"
   ]
  },
  {
   "cell_type": "code",
   "execution_count": 117,
   "metadata": {},
   "outputs": [
    {
     "data": {
      "image/png": "[encoded data removed]",
      "text/plain": [
       "<Figure size 216x864 with 4 Axes>"
      ]
     },
     "metadata": {
      "needs_background": "light"
     },
     "output_type": "display_data"
    }
   ],
   "source": [
    "g = sb.FacetGrid(backup, col = 'customer_status',row = 'churn_category', margin_titles = True);\n",
    "g.map(plt.bar, 'online_backup', 'count');\n"
   ]
  },
  {
   "cell_type": "code",
   "execution_count": 118,
   "metadata": {},
   "outputs": [
    {
     "data": {
      "image/png": "[encoded data removed]",
      "text/plain": [
       "<Figure size 216x864 with 4 Axes>"
      ]
     },
     "metadata": {
      "needs_background": "light"
     },
     "output_type": "display_data"
    }
   ],
   "source": [
    "g = sb.FacetGrid(device, col = 'customer_status',row = 'churn_category', margin_titles = True);\n",
    "g.map(plt.bar, 'device_protection_plan', 'count');\n"
   ]
  },
  {
   "cell_type": "code",
   "execution_count": 119,
   "metadata": {},
   "outputs": [
    {
     "data": {
      "image/png": "[encoded data removed]",
      "text/plain": [
       "<Figure size 216x864 with 4 Axes>"
      ]
     },
     "metadata": {
      "needs_background": "light"
     },
     "output_type": "display_data"
    }
   ],
   "source": [
    "g = sb.FacetGrid(security, col = 'customer_status',row = 'churn_category', margin_titles = True);\n",
    "g.map(plt.bar, 'online_security', 'count');"
   ]
  },
  {
   "cell_type": "code",
   "execution_count": 120,
   "metadata": {},
   "outputs": [
    {
     "data": {
      "image/png": "[encoded data removed]",
      "text/plain": [
       "<Figure size 216x864 with 4 Axes>"
      ]
     },
     "metadata": {
      "needs_background": "light"
     },
     "output_type": "display_data"
    }
   ],
   "source": [
    "g = sb.FacetGrid(tech, col = 'customer_status',row = 'churn_category', margin_titles = True);\n",
    "g.map(plt.bar, 'premium_tech_support', 'count');"
   ]
  },
  {
   "cell_type": "markdown",
   "metadata": {},
   "source": [
    "Interestingly, customers who had subscribed for online backup, online security, device protection plan and premium tech support  services churned less than the customer who had not. Additionally, majority of the churns were attributed to the company’s competitors."
   ]
  },
  {
   "cell_type": "markdown",
   "metadata": {
    "id": "nY5f9MkblOwF"
   },
   "source": [
    "### Talk about some of the relationships you observed in this part of the investigation. Were there features that strengthened each other in terms of looking at your feature(s) of interest?\n",
    "\n",
    "I investigated further the churned customer status by churn category. The multivariate exploration enabled me to identify the major categories of churn for the features of interest. These categories were mainly price, dissatisfaction, and competitors. I was interested to find out the reasons for churn and investigated further for the Total charges, the major reasons for churn under Price were Prices were too high, extra data charges, long distance charges and lack affordable download/upload speed.\n",
    "Churn reasons under competitors were competitors had better devices, they made better offers, they offered higher download speeds and more data.\n",
    "Under dissatisfaction customers mainly churned due to product & services dissatisfaction, network reliability limited range of services and poor expertise of phone & online support.\n",
    "For Attitude customers mainly churned due to attitude of support persons and the company.\n",
    "\n",
    "\n",
    "### Were there any interesting or surprising interactions between features?\n",
    "\n",
    "I was curious to find out the churn levels where customers subscribed or did not for online backup, online security, device protection plan and premium tech support. Interestingly, customers who had subscribed to the above services churned less than the customer who had not. Additionally, majority of the churns were attributed to the company’s competitors."
   ]
  },
  {
   "cell_type": "markdown",
   "metadata": {
    "id": "9d2PhAsQlOwG"
   },
   "source": [
    "## Conclusions\n",
    "\n",
    "A considerable percentage of customers churned for Q2, a total of 1,869 customers churned compared to 454 customers who subscribed to the company services. The churn translated to a revenue loss of USD 3,684,459.82. This is a worrying trend that the company need to address.\n",
    "\n",
    "The churns were attributed to 4 main factors: Competition, Dissatisfaction of the customers with the company’s services and products, attitude of the company’s staff and the company itself and finally price of the company services. These been 841, 321,314 & 211 respectively.\n",
    "\n",
    "40% of the fiber optic client churned, the top reasons for churn were competitors had better devices, made better offers and data. Besides, the attitude of the support persons was also a major reason.\n",
    "Majority of the customers who churned had not subscribed to any plan that is online security plan, online backup plan, online protection plan and premium tech support subscription. Additionally, majority of the churns were attributed to the company’s competitors.\n",
    "\n",
    "Majority Customers who churned was due to dissatisfaction of the services were the highest charged, followed by price and competitors. Besides, we have the highest outliers in the competitors which shows we had several clients who billed highly. Finally, attitude of the company and its staff.\n",
    "\n",
    "Majority of the churned customers did not receive any offer, for customers who received offer E majority churned.\n",
    "The major cause of churn for customers who churned due to total charges was price, competitors, dissatisfaction and finally attitude of the service provider. The major reasons for churn under Price are Price too high, extra data charges, long distance charges and lack affordable download/upload speed. Churn reasons under competitors were competitors had better devices, they made better offers, they offered higher download speeds and more data. Under dissatisfaction customers mainly churned due to product & services dissatisfaction, network reliability limited range of services and poor expertise of phone & online support. For Attitude customers mainly churned due to attitude of support persons and the company.\n",
    "\n",
    "\n"
   ]
  },
  {
   "cell_type": "markdown",
   "metadata": {
    "id": "v6YK86O7lOwH"
   },
   "source": [
    "#### Limitations \n",
    "\n",
    "There was no data indicating the specific services churned for customers who had both phone and internet services. It was also not clear if the customers churned both services and also the additional services they subsribed to that is  online security plan, online backup plan, online protection plan and premium tech support"
   ]
  },
  {
   "cell_type": "code",
   "execution_count": null,
   "metadata": {
    "id": "81MO1vfKlOwH"
   },
   "outputs": [],
   "source": []
  }
 ],
 "metadata": {
  "colab": {
   "collapsed_sections": [],
   "name": "Project - Part_I_exploration_template (1).ipynb",
   "provenance": []
  },
  "kernelspec": {
   "display_name": "Python 3",
   "language": "python",
   "name": "python3"
  },
  "language_info": {
   "codemirror_mode": {
    "name": "ipython",
    "version": 3
   },
   "file_extension": ".py",
   "mimetype": "text/x-python",
   "name": "python",
   "nbconvert_exporter": "python",
   "pygments_lexer": "ipython3",
   "version": "3.8.8"
  }
 },
 "nbformat": 4,
 "nbformat_minor": 1
}
